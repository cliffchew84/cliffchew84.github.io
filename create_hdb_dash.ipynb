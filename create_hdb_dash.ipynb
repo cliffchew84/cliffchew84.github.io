{
 "cells": [
  {
   "cell_type": "markdown",
   "id": "f965f872-2447-4433-ada3-c61a9234964a",
   "metadata": {},
   "source": [
    "### HDB Dashboard Creation Workflow"
   ]
  },
  {
   "cell_type": "code",
   "execution_count": 1,
   "id": "1c924953-4eb6-466f-abec-0d7d09516521",
   "metadata": {
    "tags": []
   },
   "outputs": [],
   "source": [
    "import os\n",
    "import json\n",
    "import requests\n",
    "import pandas as pd\n",
    "import plotly.graph_objects as go"
   ]
  },
  {
   "cell_type": "markdown",
   "id": "6c8f20eb-6b74-4f73-a31d-d360e30399cf",
   "metadata": {},
   "source": [
    "#### Setting up dates for data extraction "
   ]
  },
  {
   "cell_type": "code",
   "execution_count": 3,
   "id": "ce239fe6-64e7-40a2-aa7f-7ca957270b82",
   "metadata": {
    "tags": []
   },
   "outputs": [],
   "source": [
    "mths_2012_14 = list()\n",
    "year = range(2013, 2015, 1)\n",
    "months = range(1, 13, 1)\n",
    "\n",
    "for yr in year:\n",
    "    for month in months:\n",
    "        month = str(month).zfill(2) \n",
    "        mths_2012_14.append(f\"{yr}-{month}\")\n",
    "        \n",
    "mths_2015_16 = list()\n",
    "year = range(2015, 2017, 1)\n",
    "months = range(1, 13, 1)\n",
    "\n",
    "for yr in year:\n",
    "    for month in months:\n",
    "        month = str(month).zfill(2) \n",
    "        mths_2015_16.append(f\"{yr}-{month}\")\n",
    "        \n",
    "mths_2017_onwards = list()\n",
    "year = range(2017, 2030, 1)\n",
    "months = range(1, 13, 1)\n",
    "\n",
    "for yr in year:\n",
    "    for month in months:\n",
    "        month = str(month).zfill(2) \n",
    "        mths_2017_onwards.append(f\"{yr}-{month}\")\n",
    "\n",
    "mth_filter = mths_2017_onwards.index('2024-06')\n",
    "mths_2017_onwards = mths_2017_onwards[:mth_filter+1]"
   ]
  },
  {
   "cell_type": "code",
   "execution_count": 4,
   "id": "b0e9dbd3-6370-4688-83b1-14e1a5e8738c",
   "metadata": {
    "tags": []
   },
   "outputs": [],
   "source": [
    "df_cols = ['month', 'town', 'floor_area_sqm', 'flat_type', 'lease_commence_date', 'resale_price' ]\n",
    "param_fields = \",\".join(df_cols)"
   ]
  },
  {
   "cell_type": "code",
   "execution_count": 5,
   "id": "b7e44f60-d993-4597-868f-8c456e270ca6",
   "metadata": {
    "tags": []
   },
   "outputs": [
    {
     "data": {
      "application/vnd.jupyter.widget-view+json": {
       "model_id": "a4a634ea050346efa153f6e818ceebc4",
       "version_major": 2,
       "version_minor": 0
      },
      "text/plain": [
       "  0%|          | 0/24 [00:00<?, ?it/s]"
      ]
     },
     "metadata": {},
     "output_type": "display_data"
    }
   ],
   "source": [
    "mth_2012_2014 = \"?resource_id=d_2d5ff9ea31397b66239f245f57751537\"\n",
    "base_url = \"https://data.gov.sg/api/action/datastore_search\"\n",
    "url = base_url + mth_2012_2014\n",
    "\n",
    "latest_df = pd.DataFrame()\n",
    "for mth in mths_2012_14:\n",
    "    params = {\n",
    "        \"fields\": param_fields,\n",
    "        \"filters\": json.dumps({'month': mth}),\n",
    "        \"limit\": 10000\n",
    "    }\n",
    "    response = requests.get(url, params=params)\n",
    "    mth_df = pd.DataFrame(response.json().get(\"result\").get(\"records\"))  \n",
    "    latest_df = pd.concat([latest_df, mth_df], axis=0)"
   ]
  },
  {
   "cell_type": "code",
   "execution_count": 6,
   "id": "832a9f0e-eaca-4b00-8308-8f6a71daeef4",
   "metadata": {
    "tags": []
   },
   "outputs": [
    {
     "data": {
      "application/vnd.jupyter.widget-view+json": {
       "model_id": "9694b78ddad2474890e2ec7a401d0e64",
       "version_major": 2,
       "version_minor": 0
      },
      "text/plain": [
       "  0%|          | 0/24 [00:00<?, ?it/s]"
      ]
     },
     "metadata": {},
     "output_type": "display_data"
    }
   ],
   "source": [
    "mth_2015_2016 = \"?resource_id=d_ea9ed51da2787afaf8e51f827c304208\"\n",
    "base_url = \"https://data.gov.sg/api/action/datastore_search\"\n",
    "url = base_url + mth_2015_2016\n",
    "\n",
    "for mth in mths_2015_16:\n",
    "    params = {\n",
    "        \"fields\": param_fields,\n",
    "        \"filters\": json.dumps({'month': mth}),\n",
    "        \"limit\": 10000\n",
    "    }\n",
    "    response = requests.get(url, params=params)\n",
    "    mth_df = pd.DataFrame(response.json().get(\"result\").get(\"records\"))  \n",
    "    latest_df = pd.concat([latest_df, mth_df], axis=0)"
   ]
  },
  {
   "cell_type": "code",
   "execution_count": 7,
   "id": "58e9052c-e3f5-4df7-8b18-ecf5d78f986a",
   "metadata": {
    "tags": []
   },
   "outputs": [
    {
     "data": {
      "application/vnd.jupyter.widget-view+json": {
       "model_id": "65adf28ae3624a2da44c935d5fdcf804",
       "version_major": 2,
       "version_minor": 0
      },
      "text/plain": [
       "  0%|          | 0/90 [00:00<?, ?it/s]"
      ]
     },
     "metadata": {},
     "output_type": "display_data"
    }
   ],
   "source": [
    "mth_2017 = \"?resource_id=d_8b84c4ee58e3cfc0ece0d773c8ca6abc\"\n",
    "base_url = \"https://data.gov.sg/api/action/datastore_search\"\n",
    "url = base_url + mth_2017\n",
    "\n",
    "for mth in mths_2017_onwards:\n",
    "    params = {\n",
    "        \"fields\": param_fields,\n",
    "        \"filters\": json.dumps({'month': mth}),\n",
    "        \"limit\": 10000\n",
    "    }\n",
    "    response = requests.get(url, params=params)\n",
    "    mth_df = pd.DataFrame(response.json().get(\"result\").get(\"records\"))   \n",
    "    latest_df = pd.concat([latest_df, mth_df], axis=0)"
   ]
  },
  {
   "cell_type": "markdown",
   "id": "a4ceaf42-5505-4589-bc67-df2775bbb8f2",
   "metadata": {},
   "source": [
    "### Data Processing for creating charts "
   ]
  },
  {
   "cell_type": "code",
   "execution_count": 8,
   "id": "dd67108f-922c-48f6-95c4-35bcd6b84809",
   "metadata": {
    "tags": []
   },
   "outputs": [],
   "source": [
    "df = latest_df.copy()\n",
    "df['yr_q'] = [str(i) for i in pd.to_datetime(df['month']).dt.to_period('Q')]\n",
    "df['count'] = 1\n",
    "df.rename(columns={'resale_price':'price'}, inplace=True)\n",
    "df.price = df.price.astype(float)\n",
    "\n",
    "# Create price categories\n",
    "bins = [0, 300000, 500000, 800000, 1000000, 2000000]\n",
    "labels = [\"<=300k\", \"300-500k\", \"500-800k\", \"800k-1m\", \">=1m\"]\n",
    "df[\"price_grp\"] = pd.cut(df[\"price\"], bins=bins, labels=labels, right=False)\n",
    "\n",
    "chart_width = 1000\n",
    "chart_height = 600"
   ]
  },
  {
   "cell_type": "markdown",
   "id": "8dd9a0ad-b6bb-4a20-9287-31f61f66f820",
   "metadata": {},
   "source": [
    "### My Graphs\n",
    "1. [Home Price Distributions](#Home-price-distributions) - Tracking price distribution of public homes sold\n",
    "1. [Advanced Million Dollar Homes](#Advanced-Million-Dollar-Homes) - Tracking million dollar homes and their porportions\n",
    "1. [Stacked Bar Values](#Stacked-Bar-Values) - Tracking number of public homes sold by their price brackets\n",
    "1. [Stacked Bar Percentage](#Stacked-Bar-Percentage) - Tracking proportion of public homes sold by their price brackets"
   ]
  },
  {
   "cell_type": "markdown",
   "id": "8b48bc4a-8d44-4ea0-b0be-6428cbf3368f",
   "metadata": {},
   "source": [
    "### Home price distributions\n",
    "#### [Back to My Graphs](#My-Graphs)"
   ]
  },
  {
   "cell_type": "code",
   "execution_count": 9,
   "id": "c39f7b35-e3ee-4e05-bc42-a45f2270a76d",
   "metadata": {
    "tags": []
   },
   "outputs": [],
   "source": [
    "period = 'yr_q'\n",
    "fig = go.Figure()\n",
    "for p in df[period].drop_duplicates():\n",
    "    fig.add_trace(go.Box(y=df[df[period] == p].price, name=str(p)))\n",
    "\n",
    "fig.update_layout(\n",
    "    title='By Quarters - Public Home Price Distributions From 2013',\n",
    "    yaxis={\"title\": \"Home Prices\"},\n",
    "    xaxis={\"title\": \"Quarters\"},\n",
    "    width=chart_width, height=chart_height,\n",
    "    showlegend=False,\n",
    ")\n",
    "\n",
    "fig.write_html(\"qtr_boxplot.html\")\n",
    "# fig.show()"
   ]
  },
  {
   "cell_type": "code",
   "execution_count": 10,
   "id": "98a991c9-7e54-4d3c-bd72-887c7955eeb0",
   "metadata": {
    "tags": []
   },
   "outputs": [],
   "source": [
    "period = 'month'\n",
    "fig = go.Figure()\n",
    "\n",
    "mth_df = df[df.yr_q >= '2020Q1']\n",
    "for p in mth_df[period].drop_duplicates():\n",
    "    fig.add_trace(go.Box(y=mth_df[mth_df[period] == p].price, name=str(p)))\n",
    "\n",
    "fig.update_layout(\n",
    "    title='By Months - Public Home Price Distributions From 2020',\n",
    "    yaxis={\"title\": \"Home Prices\"},\n",
    "    xaxis={\"title\": \"Months\"},\n",
    "    width=chart_width, height=chart_height,\n",
    "    showlegend=False,\n",
    ")\n",
    "\n",
    "fig.write_html(\"mth_boxplot.html\")\n",
    "# fig.show()"
   ]
  },
  {
   "cell_type": "markdown",
   "id": "cf128b30-3083-4b73-bb97-d774a5884fab",
   "metadata": {},
   "source": [
    "### Advanced Million Dollar Homes\n",
    "#### [Back to My Graphs](#My-Graphs)"
   ]
  },
  {
   "cell_type": "code",
   "execution_count": 19,
   "id": "b52c8fe6-dcf1-42e3-a92c-d6d71c13f0aa",
   "metadata": {
    "tags": []
   },
   "outputs": [],
   "source": [
    "period = 'yr_q'\n",
    "df['mil'] = [1 if i >= 1000000 else 0 for i in df['price']]\n",
    "for_plot = df.groupby([period, 'mil'])['town'].count().reset_index().sort_values(period)\n",
    "cal_ = for_plot.pivot_table(index=period, values='town', columns='mil', \n",
    "                            margins=True, aggfunc=\"sum\").reset_index().fillna(0)\n",
    "\n",
    "for i in [0, 1, 'All']:\n",
    "    cal_[i] = cal_[i].astype(int)\n",
    "\n",
    "cal_['proportion'] = [round(i,2) for i in cal_[1] / cal_['All'] * 100]\n",
    "cal_mil_ts = cal_[cal_[period] != 'All'].reset_index(drop=True)\n",
    "cal_mil_ts.columns = [period, '0', 'million $ Trans', 'Total Trans', '% million Trans']"
   ]
  },
  {
   "cell_type": "code",
   "execution_count": 20,
   "id": "83ffd39a-f22f-47be-bb14-57a290974741",
   "metadata": {
    "tags": []
   },
   "outputs": [],
   "source": [
    "from plotly.subplots import make_subplots\n",
    "fig = make_subplots(specs=[[{\"secondary_y\": True}]])\n",
    "\n",
    "title = \"By Quarters - % of Million Dollar Public Home Sales [Line] & Total Sales Public Home Sales [Bar] \"\n",
    "fig.add_trace(go.Scatter(\n",
    "    x=cal_mil_ts[period], \n",
    "    y=cal_mil_ts['% million Trans'],\n",
    "    mode='lines+markers',\n",
    "    name=\"%\"), \n",
    "secondary_y=False)\n",
    "\n",
    "fig.add_trace(go.Bar(\n",
    "    x=cal_mil_ts[period],\n",
    "    y=cal_mil_ts['0'],\n",
    "    opacity=.4,\n",
    "    name=\"Total Sales\"),\n",
    "secondary_y=True)\n",
    "\n",
    "fig.update_layout(\n",
    "    title=title,\n",
    "    hovermode=\"x unified\",\n",
    "    xaxis={\"title\": \"Quarters\"},\n",
    "    width=chart_width, height=chart_height,\n",
    "    legend=dict(orientation=\"h\", yanchor=\"bottom\", y=1.02, xanchor=\"right\", x=1)\n",
    ")\n",
    "\n",
    "fig.update_yaxes(title_text=\"% Million Dollar Homes to Overall Sales\", secondary_y=False)\n",
    "fig.update_yaxes(title_text=\"Total Sales\", secondary_y=True)\n",
    "\n",
    "fig.add_hline(y=1, line_width=1.5, line_dash=\"dash\", line_color=\"black\")\n",
    "fig.add_hline(y=1.5, line_width=1.5, line_dash=\"dash\", line_color=\"red\")\n",
    "\n",
    "fig.write_html(\"qtr_barline_chart.html\")\n",
    "# fig.show()"
   ]
  },
  {
   "cell_type": "code",
   "execution_count": 21,
   "id": "6ef3b06f-0148-462c-a9f3-10adc3bd671a",
   "metadata": {
    "tags": []
   },
   "outputs": [],
   "source": [
    "period = 'month'\n",
    "df['mil'] = [1 if i >= 1000000 else 0 for i in df['price']]\n",
    "for_plot = df[df.yr_q >= '2020Q1'].groupby([period, 'mil'])['town'].count().reset_index().sort_values(period)\n",
    "cal_ = for_plot.pivot_table(index=period, values='town', columns='mil', \n",
    "                            margins=True, aggfunc=\"sum\").reset_index().fillna(0)\n",
    "\n",
    "for i in [0, 1, 'All']:\n",
    "    cal_[i] = cal_[i].astype(int)\n",
    "\n",
    "cal_['proportion'] = [round(i,2) for i in cal_[1] / cal_['All'] * 100]\n",
    "cal_mil_ts = cal_[cal_[period] != 'All'].reset_index(drop=True)\n",
    "cal_mil_ts.columns = [period, '0', 'million $ Trans', 'Total Trans', '% million Trans']"
   ]
  },
  {
   "cell_type": "code",
   "execution_count": 31,
   "id": "5e14029b-e5ab-4511-b4d5-5921a29ee607",
   "metadata": {
    "tags": []
   },
   "outputs": [
    {
     "data": {
      "application/vnd.plotly.v1+json": {
       "config": {
        "plotlyServerURL": "https://plot.ly"
       },
       "data": [
        {
         "mode": "lines+markers",
         "name": "%",
         "type": "scatter",
         "x": [
          "2020-01",
          "2020-02",
          "2020-03",
          "2020-04",
          "2020-05",
          "2020-06",
          "2020-07",
          "2020-08",
          "2020-09",
          "2020-10",
          "2020-11",
          "2020-12",
          "2021-01",
          "2021-02",
          "2021-03",
          "2021-04",
          "2021-05",
          "2021-06",
          "2021-07",
          "2021-08",
          "2021-09",
          "2021-10",
          "2021-11",
          "2021-12",
          "2022-01",
          "2022-02",
          "2022-03",
          "2022-04",
          "2022-05",
          "2022-06",
          "2022-07",
          "2022-08",
          "2022-09",
          "2022-10",
          "2022-11",
          "2022-12",
          "2023-01",
          "2023-02",
          "2023-03",
          "2023-04",
          "2023-05",
          "2023-06",
          "2023-07",
          "2023-08",
          "2023-09",
          "2023-10",
          "2023-11",
          "2023-12",
          "2024-01",
          "2024-02",
          "2024-03",
          "2024-04",
          "2024-05",
          "2024-06"
         ],
         "xaxis": "x",
         "y": [
          0.21,
          0.24,
          0.26,
          0.24,
          0.55,
          0.33,
          0.37,
          0.21,
          0.32,
          0.54,
          0.56,
          0.4,
          0.52,
          1.06,
          0.7,
          0.9,
          0.66,
          0.83,
          0.71,
          0.95,
          0.91,
          0.8,
          1.13,
          1.49,
          1.11,
          1.53,
          1.19,
          0.97,
          1.39,
          1.45,
          1.4,
          1.43,
          1.75,
          1.94,
          1.22,
          1.25,
          1.57,
          1.31,
          1.71,
          1.7,
          1.51,
          1.83,
          1.56,
          2.19,
          2.13,
          1.83,
          2.11,
          2.4,
          2.82,
          2.35,
          2.98,
          2.86,
          2.95,
          5.15
         ],
         "yaxis": "y"
        },
        {
         "name": "Total Sales",
         "opacity": 0.4,
         "type": "bar",
         "x": [
          "2020-01",
          "2020-02",
          "2020-03",
          "2020-04",
          "2020-05",
          "2020-06",
          "2020-07",
          "2020-08",
          "2020-09",
          "2020-10",
          "2020-11",
          "2020-12",
          "2021-01",
          "2021-02",
          "2021-03",
          "2021-04",
          "2021-05",
          "2021-06",
          "2021-07",
          "2021-08",
          "2021-09",
          "2021-10",
          "2021-11",
          "2021-12",
          "2022-01",
          "2022-02",
          "2022-03",
          "2022-04",
          "2022-05",
          "2022-06",
          "2022-07",
          "2022-08",
          "2022-09",
          "2022-10",
          "2022-11",
          "2022-12",
          "2023-01",
          "2023-02",
          "2023-03",
          "2023-04",
          "2023-05",
          "2023-06",
          "2023-07",
          "2023-08",
          "2023-09",
          "2023-10",
          "2023-11",
          "2023-12",
          "2024-01",
          "2024-02",
          "2024-03",
          "2024-04",
          "2024-05",
          "2024-06"
         ],
         "xaxis": "x",
         "y": [
          1907,
          1657,
          1932,
          423,
          361,
          2430,
          2447,
          2421,
          2474,
          2414,
          2309,
          2476,
          2478,
          2137,
          2426,
          2312,
          1944,
          2283,
          2640,
          2713,
          2493,
          2479,
          2537,
          2386,
          2415,
          1866,
          2235,
          2240,
          2124,
          2104,
          2328,
          2276,
          2533,
          1920,
          2104,
          2206,
          2511,
          1813,
          2238,
          2140,
          2211,
          1819,
          2020,
          2413,
          1932,
          2150,
          2084,
          1956,
          2547,
          2075,
          1988,
          2309,
          2437,
          405
         ],
         "yaxis": "y2"
        }
       ],
       "layout": {
        "height": 600,
        "hovermode": "x unified",
        "legend": {
         "orientation": "h",
         "x": 1,
         "xanchor": "right",
         "y": 1.02,
         "yanchor": "bottom"
        },
        "shapes": [
         {
          "line": {
           "color": "black",
           "dash": "dash",
           "width": 1.5
          },
          "type": "line",
          "x0": 0,
          "x1": 1,
          "xref": "x domain",
          "y0": 1,
          "y1": 1,
          "yref": "y"
         },
         {
          "line": {
           "color": "red",
           "dash": "dash",
           "width": 1.5
          },
          "type": "line",
          "x0": 0,
          "x1": 1,
          "xref": "x domain",
          "y0": 1.5,
          "y1": 1.5,
          "yref": "y"
         }
        ],
        "template": {
         "data": {
          "bar": [
           {
            "error_x": {
             "color": "#2a3f5f"
            },
            "error_y": {
             "color": "#2a3f5f"
            },
            "marker": {
             "line": {
              "color": "#E5ECF6",
              "width": 0.5
             },
             "pattern": {
              "fillmode": "overlay",
              "size": 10,
              "solidity": 0.2
             }
            },
            "type": "bar"
           }
          ],
          "barpolar": [
           {
            "marker": {
             "line": {
              "color": "#E5ECF6",
              "width": 0.5
             },
             "pattern": {
              "fillmode": "overlay",
              "size": 10,
              "solidity": 0.2
             }
            },
            "type": "barpolar"
           }
          ],
          "carpet": [
           {
            "aaxis": {
             "endlinecolor": "#2a3f5f",
             "gridcolor": "white",
             "linecolor": "white",
             "minorgridcolor": "white",
             "startlinecolor": "#2a3f5f"
            },
            "baxis": {
             "endlinecolor": "#2a3f5f",
             "gridcolor": "white",
             "linecolor": "white",
             "minorgridcolor": "white",
             "startlinecolor": "#2a3f5f"
            },
            "type": "carpet"
           }
          ],
          "choropleth": [
           {
            "colorbar": {
             "outlinewidth": 0,
             "ticks": ""
            },
            "type": "choropleth"
           }
          ],
          "contour": [
           {
            "colorbar": {
             "outlinewidth": 0,
             "ticks": ""
            },
            "colorscale": [
             [
              0,
              "#0d0887"
             ],
             [
              0.1111111111111111,
              "#46039f"
             ],
             [
              0.2222222222222222,
              "#7201a8"
             ],
             [
              0.3333333333333333,
              "#9c179e"
             ],
             [
              0.4444444444444444,
              "#bd3786"
             ],
             [
              0.5555555555555556,
              "#d8576b"
             ],
             [
              0.6666666666666666,
              "#ed7953"
             ],
             [
              0.7777777777777778,
              "#fb9f3a"
             ],
             [
              0.8888888888888888,
              "#fdca26"
             ],
             [
              1,
              "#f0f921"
             ]
            ],
            "type": "contour"
           }
          ],
          "contourcarpet": [
           {
            "colorbar": {
             "outlinewidth": 0,
             "ticks": ""
            },
            "type": "contourcarpet"
           }
          ],
          "heatmap": [
           {
            "colorbar": {
             "outlinewidth": 0,
             "ticks": ""
            },
            "colorscale": [
             [
              0,
              "#0d0887"
             ],
             [
              0.1111111111111111,
              "#46039f"
             ],
             [
              0.2222222222222222,
              "#7201a8"
             ],
             [
              0.3333333333333333,
              "#9c179e"
             ],
             [
              0.4444444444444444,
              "#bd3786"
             ],
             [
              0.5555555555555556,
              "#d8576b"
             ],
             [
              0.6666666666666666,
              "#ed7953"
             ],
             [
              0.7777777777777778,
              "#fb9f3a"
             ],
             [
              0.8888888888888888,
              "#fdca26"
             ],
             [
              1,
              "#f0f921"
             ]
            ],
            "type": "heatmap"
           }
          ],
          "heatmapgl": [
           {
            "colorbar": {
             "outlinewidth": 0,
             "ticks": ""
            },
            "colorscale": [
             [
              0,
              "#0d0887"
             ],
             [
              0.1111111111111111,
              "#46039f"
             ],
             [
              0.2222222222222222,
              "#7201a8"
             ],
             [
              0.3333333333333333,
              "#9c179e"
             ],
             [
              0.4444444444444444,
              "#bd3786"
             ],
             [
              0.5555555555555556,
              "#d8576b"
             ],
             [
              0.6666666666666666,
              "#ed7953"
             ],
             [
              0.7777777777777778,
              "#fb9f3a"
             ],
             [
              0.8888888888888888,
              "#fdca26"
             ],
             [
              1,
              "#f0f921"
             ]
            ],
            "type": "heatmapgl"
           }
          ],
          "histogram": [
           {
            "marker": {
             "pattern": {
              "fillmode": "overlay",
              "size": 10,
              "solidity": 0.2
             }
            },
            "type": "histogram"
           }
          ],
          "histogram2d": [
           {
            "colorbar": {
             "outlinewidth": 0,
             "ticks": ""
            },
            "colorscale": [
             [
              0,
              "#0d0887"
             ],
             [
              0.1111111111111111,
              "#46039f"
             ],
             [
              0.2222222222222222,
              "#7201a8"
             ],
             [
              0.3333333333333333,
              "#9c179e"
             ],
             [
              0.4444444444444444,
              "#bd3786"
             ],
             [
              0.5555555555555556,
              "#d8576b"
             ],
             [
              0.6666666666666666,
              "#ed7953"
             ],
             [
              0.7777777777777778,
              "#fb9f3a"
             ],
             [
              0.8888888888888888,
              "#fdca26"
             ],
             [
              1,
              "#f0f921"
             ]
            ],
            "type": "histogram2d"
           }
          ],
          "histogram2dcontour": [
           {
            "colorbar": {
             "outlinewidth": 0,
             "ticks": ""
            },
            "colorscale": [
             [
              0,
              "#0d0887"
             ],
             [
              0.1111111111111111,
              "#46039f"
             ],
             [
              0.2222222222222222,
              "#7201a8"
             ],
             [
              0.3333333333333333,
              "#9c179e"
             ],
             [
              0.4444444444444444,
              "#bd3786"
             ],
             [
              0.5555555555555556,
              "#d8576b"
             ],
             [
              0.6666666666666666,
              "#ed7953"
             ],
             [
              0.7777777777777778,
              "#fb9f3a"
             ],
             [
              0.8888888888888888,
              "#fdca26"
             ],
             [
              1,
              "#f0f921"
             ]
            ],
            "type": "histogram2dcontour"
           }
          ],
          "mesh3d": [
           {
            "colorbar": {
             "outlinewidth": 0,
             "ticks": ""
            },
            "type": "mesh3d"
           }
          ],
          "parcoords": [
           {
            "line": {
             "colorbar": {
              "outlinewidth": 0,
              "ticks": ""
             }
            },
            "type": "parcoords"
           }
          ],
          "pie": [
           {
            "automargin": true,
            "type": "pie"
           }
          ],
          "scatter": [
           {
            "fillpattern": {
             "fillmode": "overlay",
             "size": 10,
             "solidity": 0.2
            },
            "type": "scatter"
           }
          ],
          "scatter3d": [
           {
            "line": {
             "colorbar": {
              "outlinewidth": 0,
              "ticks": ""
             }
            },
            "marker": {
             "colorbar": {
              "outlinewidth": 0,
              "ticks": ""
             }
            },
            "type": "scatter3d"
           }
          ],
          "scattercarpet": [
           {
            "marker": {
             "colorbar": {
              "outlinewidth": 0,
              "ticks": ""
             }
            },
            "type": "scattercarpet"
           }
          ],
          "scattergeo": [
           {
            "marker": {
             "colorbar": {
              "outlinewidth": 0,
              "ticks": ""
             }
            },
            "type": "scattergeo"
           }
          ],
          "scattergl": [
           {
            "marker": {
             "colorbar": {
              "outlinewidth": 0,
              "ticks": ""
             }
            },
            "type": "scattergl"
           }
          ],
          "scattermapbox": [
           {
            "marker": {
             "colorbar": {
              "outlinewidth": 0,
              "ticks": ""
             }
            },
            "type": "scattermapbox"
           }
          ],
          "scatterpolar": [
           {
            "marker": {
             "colorbar": {
              "outlinewidth": 0,
              "ticks": ""
             }
            },
            "type": "scatterpolar"
           }
          ],
          "scatterpolargl": [
           {
            "marker": {
             "colorbar": {
              "outlinewidth": 0,
              "ticks": ""
             }
            },
            "type": "scatterpolargl"
           }
          ],
          "scatterternary": [
           {
            "marker": {
             "colorbar": {
              "outlinewidth": 0,
              "ticks": ""
             }
            },
            "type": "scatterternary"
           }
          ],
          "surface": [
           {
            "colorbar": {
             "outlinewidth": 0,
             "ticks": ""
            },
            "colorscale": [
             [
              0,
              "#0d0887"
             ],
             [
              0.1111111111111111,
              "#46039f"
             ],
             [
              0.2222222222222222,
              "#7201a8"
             ],
             [
              0.3333333333333333,
              "#9c179e"
             ],
             [
              0.4444444444444444,
              "#bd3786"
             ],
             [
              0.5555555555555556,
              "#d8576b"
             ],
             [
              0.6666666666666666,
              "#ed7953"
             ],
             [
              0.7777777777777778,
              "#fb9f3a"
             ],
             [
              0.8888888888888888,
              "#fdca26"
             ],
             [
              1,
              "#f0f921"
             ]
            ],
            "type": "surface"
           }
          ],
          "table": [
           {
            "cells": {
             "fill": {
              "color": "#EBF0F8"
             },
             "line": {
              "color": "white"
             }
            },
            "header": {
             "fill": {
              "color": "#C8D4E3"
             },
             "line": {
              "color": "white"
             }
            },
            "type": "table"
           }
          ]
         },
         "layout": {
          "annotationdefaults": {
           "arrowcolor": "#2a3f5f",
           "arrowhead": 0,
           "arrowwidth": 1
          },
          "autotypenumbers": "strict",
          "coloraxis": {
           "colorbar": {
            "outlinewidth": 0,
            "ticks": ""
           }
          },
          "colorscale": {
           "diverging": [
            [
             0,
             "#8e0152"
            ],
            [
             0.1,
             "#c51b7d"
            ],
            [
             0.2,
             "#de77ae"
            ],
            [
             0.3,
             "#f1b6da"
            ],
            [
             0.4,
             "#fde0ef"
            ],
            [
             0.5,
             "#f7f7f7"
            ],
            [
             0.6,
             "#e6f5d0"
            ],
            [
             0.7,
             "#b8e186"
            ],
            [
             0.8,
             "#7fbc41"
            ],
            [
             0.9,
             "#4d9221"
            ],
            [
             1,
             "#276419"
            ]
           ],
           "sequential": [
            [
             0,
             "#0d0887"
            ],
            [
             0.1111111111111111,
             "#46039f"
            ],
            [
             0.2222222222222222,
             "#7201a8"
            ],
            [
             0.3333333333333333,
             "#9c179e"
            ],
            [
             0.4444444444444444,
             "#bd3786"
            ],
            [
             0.5555555555555556,
             "#d8576b"
            ],
            [
             0.6666666666666666,
             "#ed7953"
            ],
            [
             0.7777777777777778,
             "#fb9f3a"
            ],
            [
             0.8888888888888888,
             "#fdca26"
            ],
            [
             1,
             "#f0f921"
            ]
           ],
           "sequentialminus": [
            [
             0,
             "#0d0887"
            ],
            [
             0.1111111111111111,
             "#46039f"
            ],
            [
             0.2222222222222222,
             "#7201a8"
            ],
            [
             0.3333333333333333,
             "#9c179e"
            ],
            [
             0.4444444444444444,
             "#bd3786"
            ],
            [
             0.5555555555555556,
             "#d8576b"
            ],
            [
             0.6666666666666666,
             "#ed7953"
            ],
            [
             0.7777777777777778,
             "#fb9f3a"
            ],
            [
             0.8888888888888888,
             "#fdca26"
            ],
            [
             1,
             "#f0f921"
            ]
           ]
          },
          "colorway": [
           "#636efa",
           "#EF553B",
           "#00cc96",
           "#ab63fa",
           "#FFA15A",
           "#19d3f3",
           "#FF6692",
           "#B6E880",
           "#FF97FF",
           "#FECB52"
          ],
          "font": {
           "color": "#2a3f5f"
          },
          "geo": {
           "bgcolor": "white",
           "lakecolor": "white",
           "landcolor": "#E5ECF6",
           "showlakes": true,
           "showland": true,
           "subunitcolor": "white"
          },
          "hoverlabel": {
           "align": "left"
          },
          "hovermode": "closest",
          "mapbox": {
           "style": "light"
          },
          "paper_bgcolor": "white",
          "plot_bgcolor": "#E5ECF6",
          "polar": {
           "angularaxis": {
            "gridcolor": "white",
            "linecolor": "white",
            "ticks": ""
           },
           "bgcolor": "#E5ECF6",
           "radialaxis": {
            "gridcolor": "white",
            "linecolor": "white",
            "ticks": ""
           }
          },
          "scene": {
           "xaxis": {
            "backgroundcolor": "#E5ECF6",
            "gridcolor": "white",
            "gridwidth": 2,
            "linecolor": "white",
            "showbackground": true,
            "ticks": "",
            "zerolinecolor": "white"
           },
           "yaxis": {
            "backgroundcolor": "#E5ECF6",
            "gridcolor": "white",
            "gridwidth": 2,
            "linecolor": "white",
            "showbackground": true,
            "ticks": "",
            "zerolinecolor": "white"
           },
           "zaxis": {
            "backgroundcolor": "#E5ECF6",
            "gridcolor": "white",
            "gridwidth": 2,
            "linecolor": "white",
            "showbackground": true,
            "ticks": "",
            "zerolinecolor": "white"
           }
          },
          "shapedefaults": {
           "line": {
            "color": "#2a3f5f"
           }
          },
          "ternary": {
           "aaxis": {
            "gridcolor": "white",
            "linecolor": "white",
            "ticks": ""
           },
           "baxis": {
            "gridcolor": "white",
            "linecolor": "white",
            "ticks": ""
           },
           "bgcolor": "#E5ECF6",
           "caxis": {
            "gridcolor": "white",
            "linecolor": "white",
            "ticks": ""
           }
          },
          "title": {
           "x": 0.05
          },
          "xaxis": {
           "automargin": true,
           "gridcolor": "white",
           "linecolor": "white",
           "ticks": "",
           "title": {
            "standoff": 15
           },
           "zerolinecolor": "white",
           "zerolinewidth": 2
          },
          "yaxis": {
           "automargin": true,
           "gridcolor": "white",
           "linecolor": "white",
           "ticks": "",
           "title": {
            "standoff": 15
           },
           "zerolinecolor": "white",
           "zerolinewidth": 2
          }
         }
        },
        "title": {
         "text": "By Months - % of Million Dollar Public Home Sales [Line] & Total Sales Public Home Sales [Bar]<br><style=\"text-size:10px;\">Test</style>"
        },
        "width": 1000,
        "xaxis": {
         "anchor": "y",
         "autorange": true,
         "domain": [
          0,
          0.94
         ],
         "range": [
          "2019-09-23 19:56:01.6179",
          "2024-09-08 04:03:58.3821"
         ],
         "title": {
          "text": "Months"
         },
         "type": "date"
        },
        "yaxis": {
         "anchor": "x",
         "autorange": true,
         "domain": [
          0,
          1
         ],
         "range": [
          -0.12000000000000002,
          5.48
         ],
         "title": {
          "text": "% Million Dollar Homes to Overall Sales"
         },
         "type": "linear"
        },
        "yaxis2": {
         "anchor": "x",
         "autorange": true,
         "overlaying": "y",
         "range": [
          0,
          2855.7894736842104
         ],
         "side": "right",
         "title": {
          "text": "Total Sales"
         },
         "type": "linear"
        }
       }
      },
      "image/png": "[encoded data removed]",
      "text/html": [
       "<div>                            <div id=\"650b35f1-454b-4e46-bdc8-be3106efa60b\" class=\"plotly-graph-div\" style=\"height:600px; width:1000px;\"></div>            <script type=\"text/javascript\">                require([\"plotly\"], function(Plotly) {                    window.PLOTLYENV=window.PLOTLYENV || {};                                    if (document.getElementById(\"650b35f1-454b-4e46-bdc8-be3106efa60b\")) {                    Plotly.newPlot(                        \"650b35f1-454b-4e46-bdc8-be3106efa60b\",                        [{\"mode\":\"lines+markers\",\"name\":\"%\",\"x\":[\"2020-01\",\"2020-02\",\"2020-03\",\"2020-04\",\"2020-05\",\"2020-06\",\"2020-07\",\"2020-08\",\"2020-09\",\"2020-10\",\"2020-11\",\"2020-12\",\"2021-01\",\"2021-02\",\"2021-03\",\"2021-04\",\"2021-05\",\"2021-06\",\"2021-07\",\"2021-08\",\"2021-09\",\"2021-10\",\"2021-11\",\"2021-12\",\"2022-01\",\"2022-02\",\"2022-03\",\"2022-04\",\"2022-05\",\"2022-06\",\"2022-07\",\"2022-08\",\"2022-09\",\"2022-10\",\"2022-11\",\"2022-12\",\"2023-01\",\"2023-02\",\"2023-03\",\"2023-04\",\"2023-05\",\"2023-06\",\"2023-07\",\"2023-08\",\"2023-09\",\"2023-10\",\"2023-11\",\"2023-12\",\"2024-01\",\"2024-02\",\"2024-03\",\"2024-04\",\"2024-05\",\"2024-06\"],\"y\":[0.21,0.24,0.26,0.24,0.55,0.33,0.37,0.21,0.32,0.54,0.56,0.4,0.52,1.06,0.7,0.9,0.66,0.83,0.71,0.95,0.91,0.8,1.13,1.49,1.11,1.53,1.19,0.97,1.39,1.45,1.4,1.43,1.75,1.94,1.22,1.25,1.57,1.31,1.71,1.7,1.51,1.83,1.56,2.19,2.13,1.83,2.11,2.4,2.82,2.35,2.98,2.86,2.95,5.15],\"type\":\"scatter\",\"xaxis\":\"x\",\"yaxis\":\"y\"},{\"name\":\"Total Sales\",\"opacity\":0.4,\"x\":[\"2020-01\",\"2020-02\",\"2020-03\",\"2020-04\",\"2020-05\",\"2020-06\",\"2020-07\",\"2020-08\",\"2020-09\",\"2020-10\",\"2020-11\",\"2020-12\",\"2021-01\",\"2021-02\",\"2021-03\",\"2021-04\",\"2021-05\",\"2021-06\",\"2021-07\",\"2021-08\",\"2021-09\",\"2021-10\",\"2021-11\",\"2021-12\",\"2022-01\",\"2022-02\",\"2022-03\",\"2022-04\",\"2022-05\",\"2022-06\",\"2022-07\",\"2022-08\",\"2022-09\",\"2022-10\",\"2022-11\",\"2022-12\",\"2023-01\",\"2023-02\",\"2023-03\",\"2023-04\",\"2023-05\",\"2023-06\",\"2023-07\",\"2023-08\",\"2023-09\",\"2023-10\",\"2023-11\",\"2023-12\",\"2024-01\",\"2024-02\",\"2024-03\",\"2024-04\",\"2024-05\",\"2024-06\"],\"y\":[1907,1657,1932,423,361,2430,2447,2421,2474,2414,2309,2476,2478,2137,2426,2312,1944,2283,2640,2713,2493,2479,2537,2386,2415,1866,2235,2240,2124,2104,2328,2276,2533,1920,2104,2206,2511,1813,2238,2140,2211,1819,2020,2413,1932,2150,2084,1956,2547,2075,1988,2309,2437,405],\"type\":\"bar\",\"xaxis\":\"x\",\"yaxis\":\"y2\"}],                        {\"template\":{\"data\":{\"histogram2dcontour\":[{\"type\":\"histogram2dcontour\",\"colorbar\":{\"outlinewidth\":0,\"ticks\":\"\"},\"colorscale\":[[0.0,\"#0d0887\"],[0.1111111111111111,\"#46039f\"],[0.2222222222222222,\"#7201a8\"],[0.3333333333333333,\"#9c179e\"],[0.4444444444444444,\"#bd3786\"],[0.5555555555555556,\"#d8576b\"],[0.6666666666666666,\"#ed7953\"],[0.7777777777777778,\"#fb9f3a\"],[0.8888888888888888,\"#fdca26\"],[1.0,\"#f0f921\"]]}],\"choropleth\":[{\"type\":\"choropleth\",\"colorbar\":{\"outlinewidth\":0,\"ticks\":\"\"}}],\"histogram2d\":[{\"type\":\"histogram2d\",\"colorbar\":{\"outlinewidth\":0,\"ticks\":\"\"},\"colorscale\":[[0.0,\"#0d0887\"],[0.1111111111111111,\"#46039f\"],[0.2222222222222222,\"#7201a8\"],[0.3333333333333333,\"#9c179e\"],[0.4444444444444444,\"#bd3786\"],[0.5555555555555556,\"#d8576b\"],[0.6666666666666666,\"#ed7953\"],[0.7777777777777778,\"#fb9f3a\"],[0.8888888888888888,\"#fdca26\"],[1.0,\"#f0f921\"]]}],\"heatmap\":[{\"type\":\"heatmap\",\"colorbar\":{\"outlinewidth\":0,\"ticks\":\"\"},\"colorscale\":[[0.0,\"#0d0887\"],[0.1111111111111111,\"#46039f\"],[0.2222222222222222,\"#7201a8\"],[0.3333333333333333,\"#9c179e\"],[0.4444444444444444,\"#bd3786\"],[0.5555555555555556,\"#d8576b\"],[0.6666666666666666,\"#ed7953\"],[0.7777777777777778,\"#fb9f3a\"],[0.8888888888888888,\"#fdca26\"],[1.0,\"#f0f921\"]]}],\"heatmapgl\":[{\"type\":\"heatmapgl\",\"colorbar\":{\"outlinewidth\":0,\"ticks\":\"\"},\"colorscale\":[[0.0,\"#0d0887\"],[0.1111111111111111,\"#46039f\"],[0.2222222222222222,\"#7201a8\"],[0.3333333333333333,\"#9c179e\"],[0.4444444444444444,\"#bd3786\"],[0.5555555555555556,\"#d8576b\"],[0.6666666666666666,\"#ed7953\"],[0.7777777777777778,\"#fb9f3a\"],[0.8888888888888888,\"#fdca26\"],[1.0,\"#f0f921\"]]}],\"contourcarpet\":[{\"type\":\"contourcarpet\",\"colorbar\":{\"outlinewidth\":0,\"ticks\":\"\"}}],\"contour\":[{\"type\":\"contour\",\"colorbar\":{\"outlinewidth\":0,\"ticks\":\"\"},\"colorscale\":[[0.0,\"#0d0887\"],[0.1111111111111111,\"#46039f\"],[0.2222222222222222,\"#7201a8\"],[0.3333333333333333,\"#9c179e\"],[0.4444444444444444,\"#bd3786\"],[0.5555555555555556,\"#d8576b\"],[0.6666666666666666,\"#ed7953\"],[0.7777777777777778,\"#fb9f3a\"],[0.8888888888888888,\"#fdca26\"],[1.0,\"#f0f921\"]]}],\"surface\":[{\"type\":\"surface\",\"colorbar\":{\"outlinewidth\":0,\"ticks\":\"\"},\"colorscale\":[[0.0,\"#0d0887\"],[0.1111111111111111,\"#46039f\"],[0.2222222222222222,\"#7201a8\"],[0.3333333333333333,\"#9c179e\"],[0.4444444444444444,\"#bd3786\"],[0.5555555555555556,\"#d8576b\"],[0.6666666666666666,\"#ed7953\"],[0.7777777777777778,\"#fb9f3a\"],[0.8888888888888888,\"#fdca26\"],[1.0,\"#f0f921\"]]}],\"mesh3d\":[{\"type\":\"mesh3d\",\"colorbar\":{\"outlinewidth\":0,\"ticks\":\"\"}}],\"scatter\":[{\"fillpattern\":{\"fillmode\":\"overlay\",\"size\":10,\"solidity\":0.2},\"type\":\"scatter\"}],\"parcoords\":[{\"type\":\"parcoords\",\"line\":{\"colorbar\":{\"outlinewidth\":0,\"ticks\":\"\"}}}],\"scatterpolargl\":[{\"type\":\"scatterpolargl\",\"marker\":{\"colorbar\":{\"outlinewidth\":0,\"ticks\":\"\"}}}],\"bar\":[{\"error_x\":{\"color\":\"#2a3f5f\"},\"error_y\":{\"color\":\"#2a3f5f\"},\"marker\":{\"line\":{\"color\":\"#E5ECF6\",\"width\":0.5},\"pattern\":{\"fillmode\":\"overlay\",\"size\":10,\"solidity\":0.2}},\"type\":\"bar\"}],\"scattergeo\":[{\"type\":\"scattergeo\",\"marker\":{\"colorbar\":{\"outlinewidth\":0,\"ticks\":\"\"}}}],\"scatterpolar\":[{\"type\":\"scatterpolar\",\"marker\":{\"colorbar\":{\"outlinewidth\":0,\"ticks\":\"\"}}}],\"histogram\":[{\"marker\":{\"pattern\":{\"fillmode\":\"overlay\",\"size\":10,\"solidity\":0.2}},\"type\":\"histogram\"}],\"scattergl\":[{\"type\":\"scattergl\",\"marker\":{\"colorbar\":{\"outlinewidth\":0,\"ticks\":\"\"}}}],\"scatter3d\":[{\"type\":\"scatter3d\",\"line\":{\"colorbar\":{\"outlinewidth\":0,\"ticks\":\"\"}},\"marker\":{\"colorbar\":{\"outlinewidth\":0,\"ticks\":\"\"}}}],\"scattermapbox\":[{\"type\":\"scattermapbox\",\"marker\":{\"colorbar\":{\"outlinewidth\":0,\"ticks\":\"\"}}}],\"scatterternary\":[{\"type\":\"scatterternary\",\"marker\":{\"colorbar\":{\"outlinewidth\":0,\"ticks\":\"\"}}}],\"scattercarpet\":[{\"type\":\"scattercarpet\",\"marker\":{\"colorbar\":{\"outlinewidth\":0,\"ticks\":\"\"}}}],\"carpet\":[{\"aaxis\":{\"endlinecolor\":\"#2a3f5f\",\"gridcolor\":\"white\",\"linecolor\":\"white\",\"minorgridcolor\":\"white\",\"startlinecolor\":\"#2a3f5f\"},\"baxis\":{\"endlinecolor\":\"#2a3f5f\",\"gridcolor\":\"white\",\"linecolor\":\"white\",\"minorgridcolor\":\"white\",\"startlinecolor\":\"#2a3f5f\"},\"type\":\"carpet\"}],\"table\":[{\"cells\":{\"fill\":{\"color\":\"#EBF0F8\"},\"line\":{\"color\":\"white\"}},\"header\":{\"fill\":{\"color\":\"#C8D4E3\"},\"line\":{\"color\":\"white\"}},\"type\":\"table\"}],\"barpolar\":[{\"marker\":{\"line\":{\"color\":\"#E5ECF6\",\"width\":0.5},\"pattern\":{\"fillmode\":\"overlay\",\"size\":10,\"solidity\":0.2}},\"type\":\"barpolar\"}],\"pie\":[{\"automargin\":true,\"type\":\"pie\"}]},\"layout\":{\"autotypenumbers\":\"strict\",\"colorway\":[\"#636efa\",\"#EF553B\",\"#00cc96\",\"#ab63fa\",\"#FFA15A\",\"#19d3f3\",\"#FF6692\",\"#B6E880\",\"#FF97FF\",\"#FECB52\"],\"font\":{\"color\":\"#2a3f5f\"},\"hovermode\":\"closest\",\"hoverlabel\":{\"align\":\"left\"},\"paper_bgcolor\":\"white\",\"plot_bgcolor\":\"#E5ECF6\",\"polar\":{\"bgcolor\":\"#E5ECF6\",\"angularaxis\":{\"gridcolor\":\"white\",\"linecolor\":\"white\",\"ticks\":\"\"},\"radialaxis\":{\"gridcolor\":\"white\",\"linecolor\":\"white\",\"ticks\":\"\"}},\"ternary\":{\"bgcolor\":\"#E5ECF6\",\"aaxis\":{\"gridcolor\":\"white\",\"linecolor\":\"white\",\"ticks\":\"\"},\"baxis\":{\"gridcolor\":\"white\",\"linecolor\":\"white\",\"ticks\":\"\"},\"caxis\":{\"gridcolor\":\"white\",\"linecolor\":\"white\",\"ticks\":\"\"}},\"coloraxis\":{\"colorbar\":{\"outlinewidth\":0,\"ticks\":\"\"}},\"colorscale\":{\"sequential\":[[0.0,\"#0d0887\"],[0.1111111111111111,\"#46039f\"],[0.2222222222222222,\"#7201a8\"],[0.3333333333333333,\"#9c179e\"],[0.4444444444444444,\"#bd3786\"],[0.5555555555555556,\"#d8576b\"],[0.6666666666666666,\"#ed7953\"],[0.7777777777777778,\"#fb9f3a\"],[0.8888888888888888,\"#fdca26\"],[1.0,\"#f0f921\"]],\"sequentialminus\":[[0.0,\"#0d0887\"],[0.1111111111111111,\"#46039f\"],[0.2222222222222222,\"#7201a8\"],[0.3333333333333333,\"#9c179e\"],[0.4444444444444444,\"#bd3786\"],[0.5555555555555556,\"#d8576b\"],[0.6666666666666666,\"#ed7953\"],[0.7777777777777778,\"#fb9f3a\"],[0.8888888888888888,\"#fdca26\"],[1.0,\"#f0f921\"]],\"diverging\":[[0,\"#8e0152\"],[0.1,\"#c51b7d\"],[0.2,\"#de77ae\"],[0.3,\"#f1b6da\"],[0.4,\"#fde0ef\"],[0.5,\"#f7f7f7\"],[0.6,\"#e6f5d0\"],[0.7,\"#b8e186\"],[0.8,\"#7fbc41\"],[0.9,\"#4d9221\"],[1,\"#276419\"]]},\"xaxis\":{\"gridcolor\":\"white\",\"linecolor\":\"white\",\"ticks\":\"\",\"title\":{\"standoff\":15},\"zerolinecolor\":\"white\",\"automargin\":true,\"zerolinewidth\":2},\"yaxis\":{\"gridcolor\":\"white\",\"linecolor\":\"white\",\"ticks\":\"\",\"title\":{\"standoff\":15},\"zerolinecolor\":\"white\",\"automargin\":true,\"zerolinewidth\":2},\"scene\":{\"xaxis\":{\"backgroundcolor\":\"#E5ECF6\",\"gridcolor\":\"white\",\"linecolor\":\"white\",\"showbackground\":true,\"ticks\":\"\",\"zerolinecolor\":\"white\",\"gridwidth\":2},\"yaxis\":{\"backgroundcolor\":\"#E5ECF6\",\"gridcolor\":\"white\",\"linecolor\":\"white\",\"showbackground\":true,\"ticks\":\"\",\"zerolinecolor\":\"white\",\"gridwidth\":2},\"zaxis\":{\"backgroundcolor\":\"#E5ECF6\",\"gridcolor\":\"white\",\"linecolor\":\"white\",\"showbackground\":true,\"ticks\":\"\",\"zerolinecolor\":\"white\",\"gridwidth\":2}},\"shapedefaults\":{\"line\":{\"color\":\"#2a3f5f\"}},\"annotationdefaults\":{\"arrowcolor\":\"#2a3f5f\",\"arrowhead\":0,\"arrowwidth\":1},\"geo\":{\"bgcolor\":\"white\",\"landcolor\":\"#E5ECF6\",\"subunitcolor\":\"white\",\"showland\":true,\"showlakes\":true,\"lakecolor\":\"white\"},\"title\":{\"x\":0.05},\"mapbox\":{\"style\":\"light\"}}},\"xaxis\":{\"anchor\":\"y\",\"domain\":[0.0,0.94],\"title\":{\"text\":\"Months\"}},\"yaxis\":{\"anchor\":\"x\",\"domain\":[0.0,1.0],\"title\":{\"text\":\"% Million Dollar Homes to Overall Sales\"}},\"yaxis2\":{\"anchor\":\"x\",\"overlaying\":\"y\",\"side\":\"right\",\"title\":{\"text\":\"Total Sales\"}},\"legend\":{\"orientation\":\"h\",\"yanchor\":\"bottom\",\"y\":1.02,\"xanchor\":\"right\",\"x\":1},\"title\":{\"text\":\"By Months - % of Million Dollar Public Home Sales [Line] & Total Sales Public Home Sales [Bar]\\u003cbr\\u003e\\u003cstyle=\\\"text-size:10px;\\\"\\u003eTest\\u003c\\u002fstyle\\u003e\"},\"hovermode\":\"x unified\",\"width\":1000,\"height\":600,\"shapes\":[{\"line\":{\"color\":\"black\",\"dash\":\"dash\",\"width\":1.5},\"type\":\"line\",\"x0\":0,\"x1\":1,\"xref\":\"x domain\",\"y0\":1,\"y1\":1,\"yref\":\"y\"},{\"line\":{\"color\":\"red\",\"dash\":\"dash\",\"width\":1.5},\"type\":\"line\",\"x0\":0,\"x1\":1,\"xref\":\"x domain\",\"y0\":1.5,\"y1\":1.5,\"yref\":\"y\"}]},                        {\"responsive\": true}                    ).then(function(){\n",
       "                            \n",
       "var gd = document.getElementById('650b35f1-454b-4e46-bdc8-be3106efa60b');\n",
       "var x = new MutationObserver(function (mutations, observer) {{\n",
       "        var display = window.getComputedStyle(gd).display;\n",
       "        if (!display || display === 'none') {{\n",
       "            console.log([gd, 'removed!']);\n",
       "            Plotly.purge(gd);\n",
       "            observer.disconnect();\n",
       "        }}\n",
       "}});\n",
       "\n",
       "// Listen for the removal of the full notebook cells\n",
       "var notebookContainer = gd.closest('#notebook-container');\n",
       "if (notebookContainer) {{\n",
       "    x.observe(notebookContainer, {childList: true});\n",
       "}}\n",
       "\n",
       "// Listen for the clearing of the current output cell\n",
       "var outputEl = gd.closest('.output');\n",
       "if (outputEl) {{\n",
       "    x.observe(outputEl, {childList: true});\n",
       "}}\n",
       "\n",
       "                        })                };                });            </script>        </div>"
      ]
     },
     "metadata": {},
     "output_type": "display_data"
    }
   ],
   "source": [
    "from plotly.subplots import make_subplots\n",
    "fig = make_subplots(specs=[[{\"secondary_y\": True}]])\n",
    "\n",
    "title = \"\"\"By Months - % of Million Dollar Public Home Sales [Line] & Total Sales Public Home Sales [Bar]\"\"\"\n",
    "fig.add_trace(go.Scatter(\n",
    "    x=cal_mil_ts[period], \n",
    "    y=cal_mil_ts['% million Trans'],\n",
    "    mode='lines+markers',\n",
    "    name=\"%\"), \n",
    "secondary_y=False)\n",
    "\n",
    "fig.add_trace(go.Bar(\n",
    "    x=cal_mil_ts[period],\n",
    "    y=cal_mil_ts['0'],\n",
    "    opacity=.4,\n",
    "    name=\"Total Sales\"),\n",
    "secondary_y=True)\n",
    "\n",
    "fig.update_layout(\n",
    "    title=title,\n",
    "    hovermode=\"x unified\",\n",
    "    xaxis={\"title\": \"Months\"},\n",
    "    width=chart_width, height=chart_height,\n",
    "    legend=dict(orientation=\"h\", yanchor=\"bottom\", y=1.02, xanchor=\"right\", x=1)\n",
    ")\n",
    "\n",
    "fig.update_yaxes(title_text=\"% Million Dollar Homes to Overall Sales\", secondary_y=False)\n",
    "fig.update_yaxes(title_text=\"Total Sales\", secondary_y=True)\n",
    "\n",
    "fig.add_hline(y=1, line_width=1.5, line_dash=\"dash\", line_color=\"black\")\n",
    "fig.add_hline(y=1.5, line_width=1.5, line_dash=\"dash\", line_color=\"red\")\n",
    "\n",
    "# fig.write_html(\"mth_barline_chart.html\")\n",
    "fig.show()"
   ]
  },
  {
   "cell_type": "markdown",
   "id": "013100d0-fa77-4282-8fb4-fe1ef1b90eba",
   "metadata": {},
   "source": [
    "### Stacked Bar Values\n",
    "#### [Back to My Graphs](#My-Graphs)"
   ]
  },
  {
   "cell_type": "code",
   "execution_count": 15,
   "id": "ba13ba4f-c2a0-4875-9784-467ac6a33730",
   "metadata": {},
   "outputs": [],
   "source": [
    "period = 'yr_q'\n",
    "price_grp_plots = df.groupby([period, 'price_grp'])['count'].sum().reset_index()\n",
    "\n",
    "fig = go.Figure()\n",
    "data = list()\n",
    "for i in price_grp_plots.price_grp.drop_duplicates().tolist():\n",
    "    fig.add_trace(go.Bar(name=i, \n",
    "                         x=price_grp_plots[price_grp_plots.price_grp == i][period].tolist(), \n",
    "                         y=price_grp_plots[price_grp_plots.price_grp == i]['count'].tolist()\n",
    "                        )\n",
    "                 )\n",
    "\n",
    "fig.update_layout(\n",
    "    barmode='stack',\n",
    "    xaxis={'title':'Quarters'},\n",
    "    yaxis={'title':'Count'},\n",
    "    hovermode=\"x unified\",\n",
    "    title=\"By Quarters - No. of Public Home Resales by Price Categories from 2013\",\n",
    "    width=chart_width, height=chart_height,\n",
    "    legend=dict(\n",
    "        orientation=\"h\",\n",
    "        yanchor=\"bottom\",\n",
    "        y=1.02,\n",
    "        xanchor=\"right\",\n",
    "        x=1\n",
    "))\n",
    "\n",
    "fig.write_html(\"qtr_stack_bar_values.html\")\n",
    "# fig.show()"
   ]
  },
  {
   "cell_type": "code",
   "execution_count": 16,
   "id": "6c5b25de-20cf-43ab-8c0e-001487380380",
   "metadata": {},
   "outputs": [],
   "source": [
    "period = 'month'\n",
    "price_grp_plots = df[df.yr_q >= '2020Q1'].groupby([period, 'price_grp'])['count'].sum().reset_index()\n",
    "\n",
    "fig = go.Figure()\n",
    "data = list()\n",
    "for i in price_grp_plots.price_grp.drop_duplicates().tolist():\n",
    "    fig.add_trace(go.Bar(name=i, \n",
    "                         x=price_grp_plots[price_grp_plots.price_grp == i][period].tolist(), \n",
    "                         y=price_grp_plots[price_grp_plots.price_grp == i]['count'].tolist()\n",
    "                        )\n",
    "                 )\n",
    "\n",
    "fig.update_layout(\n",
    "    barmode='stack',\n",
    "    xaxis={'title':'Months'},\n",
    "    yaxis={'title':'Count'},\n",
    "    hovermode=\"x unified\",\n",
    "    title=\"By Months - No. of Public Home Resales by Price Categories from 2020\",\n",
    "    width=chart_width, height=chart_height,\n",
    "    legend=dict(orientation=\"h\", yanchor=\"bottom\", y=1.02, xanchor=\"right\", x=1)\n",
    ")\n",
    "\n",
    "fig.write_html(\"mth_stack_bar_values.html\")\n",
    "# fig.show()"
   ]
  },
  {
   "cell_type": "markdown",
   "id": "042622a7-09d8-43f7-8bd6-8808104fa826",
   "metadata": {},
   "source": [
    "### Stacked Bar Percentage\n",
    "#### [Back to My Graphs](#My-Graphs)"
   ]
  },
  {
   "cell_type": "code",
   "execution_count": 17,
   "id": "ad02fbed-1791-4d1e-a7b7-1b3b3f843c07",
   "metadata": {},
   "outputs": [],
   "source": [
    "period = 'yr_q'\n",
    "price_grp_base = df.groupby(period)['count'].sum().reset_index()\n",
    "price_grp_plots = df.groupby([period, 'price_grp'])['count'].sum().reset_index()\n",
    "price_grp_plots_v2 = price_grp_plots.merge(price_grp_base, on=period)\n",
    "price_grp_plots_v2.columns = [period, 'price_grp', 'count', 'total']\n",
    "price_grp_plots_v2['percent_count'] = [round(i * 100, 1) for i in price_grp_plots_v2['count'] / price_grp_plots_v2['total']]\n",
    "\n",
    "fig = go.Figure()\n",
    "data = list()\n",
    "for i in price_grp_plots_v2.price_grp.drop_duplicates().tolist():\n",
    "    fig.add_trace(go.Bar(name=i, \n",
    "                         x=price_grp_plots_v2[price_grp_plots_v2.price_grp == i][period].tolist(), \n",
    "                         y=price_grp_plots_v2[price_grp_plots_v2.price_grp == i]['percent_count'].tolist(),\n",
    "                        ))\n",
    "fig.add_hline(y=50, line_width=1.5, line_dash=\"dash\", line_color=\"purple\")\n",
    "fig.update_layout(\n",
    "    barmode='stack', \n",
    "    title=\"By Quarters - % of Public Home Sales by Price Categories from 2013\",\n",
    "    xaxis={'title':'Quarters'},\n",
    "    yaxis={'title':'%'},\n",
    "    hovermode=\"x unified\",\n",
    "    width=chart_width, height=chart_height,\n",
    "    legend=dict(orientation=\"h\", yanchor=\"bottom\", y=1.02, xanchor=\"right\", x=1)\n",
    ")\n",
    "\n",
    "fig.write_html(\"qtr_stack_bar_percent.html\")\n",
    "# fig.show()"
   ]
  },
  {
   "cell_type": "code",
   "execution_count": 18,
   "id": "d9d0c77d-45ee-4314-90bc-077134355dfb",
   "metadata": {},
   "outputs": [],
   "source": [
    "period = 'month'\n",
    "mth_df = df[df.yr_q >= '2020Q1']\n",
    "price_grp_base = mth_df.groupby(period)['count'].sum().reset_index()\n",
    "price_grp_plots = mth_df.groupby([period, 'price_grp'])['count'].sum().reset_index()\n",
    "price_grp_plots_v2 = price_grp_plots.merge(price_grp_base, on=period)\n",
    "price_grp_plots_v2.columns = [period, 'price_grp', 'count', 'total']\n",
    "price_grp_plots_v2['percent_count'] = [round(i * 100, 1) for i in price_grp_plots_v2['count'] / price_grp_plots_v2['total']]\n",
    "\n",
    "fig = go.Figure()\n",
    "data = list()\n",
    "for i in price_grp_plots_v2.price_grp.drop_duplicates().tolist():\n",
    "    fig.add_trace(go.Bar(name=i, \n",
    "                         x=price_grp_plots_v2[price_grp_plots_v2.price_grp == i][period].tolist(), \n",
    "                         y=price_grp_plots_v2[price_grp_plots_v2.price_grp == i]['percent_count'].tolist(),\n",
    "                        ))\n",
    "fig.add_hline(y=50, line_width=1.5, line_dash=\"dash\", line_color=\"purple\")\n",
    "fig.update_layout(\n",
    "    barmode='stack', \n",
    "    title=\"By Months - % of Public Home Sales by Price Categories from 2013\",\n",
    "    xaxis={'title':'Months'},\n",
    "    yaxis={'title':'%'},\n",
    "    hovermode=\"x unified\",\n",
    "    width=chart_width, height=chart_height,\n",
    "    legend=dict(orientation=\"h\", yanchor=\"bottom\", y=1.02, xanchor=\"right\", x=1)\n",
    ")\n",
    "\n",
    "fig.write_html(\"mth_stack_bar_percent.html\")\n",
    "# fig.show()"
   ]
  }
 ],
 "metadata": {
  "kernelspec": {
   "display_name": "Python 3 (ipykernel)",
   "language": "python",
   "name": "python3"
  },
  "language_info": {
   "codemirror_mode": {
    "name": "ipython",
    "version": 3
   },
   "file_extension": ".py",
   "mimetype": "text/x-python",
   "name": "python",
   "nbconvert_exporter": "python",
   "pygments_lexer": "ipython3",
   "version": "3.9.10"
  }
 },
 "nbformat": 4,
 "nbformat_minor": 5
}
