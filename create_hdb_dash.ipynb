{
 "cells": [
  {
   "cell_type": "markdown",
   "id": "f965f872-2447-4433-ada3-c61a9234964a",
   "metadata": {},
   "source": [
    "### HDB Dashboard Creation Workflow"
   ]
  },
  {
   "cell_type": "code",
   "execution_count": 1,
   "id": "1c924953-4eb6-466f-abec-0d7d09516521",
   "metadata": {
    "tags": []
   },
   "outputs": [],
   "source": [
    "import os\n",
    "import json\n",
    "import requests\n",
    "import pandas as pd\n",
    "from datetime import datetime\n",
    "from dateutil.relativedelta import relativedelta\n",
    "import plotly.graph_objects as go\n",
    "from tqdm import tqdm_notebook as tqdm"
   ]
  },
  {
   "cell_type": "code",
   "execution_count": 2,
   "id": "aeb0127d-c43a-4001-96b5-b95f58cb56a2",
   "metadata": {
    "tags": []
   },
   "outputs": [
    {
     "data": {
      "text/plain": [
       "'/Users/cliff/main/sides/cliffchew84.github.io'"
      ]
     },
     "execution_count": 2,
     "metadata": {},
     "output_type": "execute_result"
    }
   ],
   "source": [
    "os.getcwd()"
   ]
  },
  {
   "cell_type": "markdown",
   "id": "6c8f20eb-6b74-4f73-a31d-d360e30399cf",
   "metadata": {},
   "source": [
    "#### Setting up dates for data extraction "
   ]
  },
  {
   "cell_type": "code",
   "execution_count": 3,
   "id": "ce239fe6-64e7-40a2-aa7f-7ca957270b82",
   "metadata": {
    "tags": []
   },
   "outputs": [],
   "source": [
    "mths_2012_14 = list()\n",
    "year = range(2013, 2015, 1)\n",
    "months = range(1, 13, 1)\n",
    "\n",
    "for yr in year:\n",
    "    for month in months:\n",
    "        month = str(month).zfill(2) \n",
    "        mths_2012_14.append(f\"{yr}-{month}\")\n",
    "        \n",
    "mths_2015_16 = list()\n",
    "year = range(2015, 2017, 1)\n",
    "months = range(1, 13, 1)\n",
    "\n",
    "for yr in year:\n",
    "    for month in months:\n",
    "        month = str(month).zfill(2) \n",
    "        mths_2015_16.append(f\"{yr}-{month}\")\n",
    "        \n",
    "mths_2017_onwards = list()\n",
    "year = range(2017, 2030, 1)\n",
    "months = range(1, 13, 1)\n",
    "\n",
    "for yr in year:\n",
    "    for month in months:\n",
    "        month = str(month).zfill(2) \n",
    "        mths_2017_onwards.append(f\"{yr}-{month}\")\n",
    "\n",
    "mth_filter = mths_2017_onwards.index('2024-06')\n",
    "mths_2017_onwards = mths_2017_onwards[:mth_filter+1]"
   ]
  },
  {
   "cell_type": "code",
   "execution_count": 4,
   "id": "b0e9dbd3-6370-4688-83b1-14e1a5e8738c",
   "metadata": {
    "tags": []
   },
   "outputs": [],
   "source": [
    "df_cols = ['month', 'town', 'floor_area_sqm', 'flat_type', 'lease_commence_date', 'resale_price' ]\n",
    "param_fields = \",\".join(df_cols)"
   ]
  },
  {
   "cell_type": "code",
   "execution_count": 5,
   "id": "b7e44f60-d993-4597-868f-8c456e270ca6",
   "metadata": {
    "tags": []
   },
   "outputs": [
    {
     "data": {
      "application/vnd.jupyter.widget-view+json": {
       "model_id": "a4a634ea050346efa153f6e818ceebc4",
       "version_major": 2,
       "version_minor": 0
      },
      "text/plain": [
       "  0%|          | 0/24 [00:00<?, ?it/s]"
      ]
     },
     "metadata": {},
     "output_type": "display_data"
    }
   ],
   "source": [
    "mth_2012_2014 = \"?resource_id=d_2d5ff9ea31397b66239f245f57751537\"\n",
    "base_url = \"https://data.gov.sg/api/action/datastore_search\"\n",
    "url = base_url + mth_2012_2014\n",
    "\n",
    "latest_df = pd.DataFrame()\n",
    "for mth in tqdm(mths_2012_14):\n",
    "    params = {\n",
    "        \"fields\": param_fields,\n",
    "        \"filters\": json.dumps({'month': mth}),\n",
    "        \"limit\": 10000\n",
    "    }\n",
    "    response = requests.get(url, params=params)\n",
    "    mth_df = pd.DataFrame(response.json().get(\"result\").get(\"records\"))  \n",
    "    latest_df = pd.concat([latest_df, mth_df], axis=0)"
   ]
  },
  {
   "cell_type": "code",
   "execution_count": 6,
   "id": "832a9f0e-eaca-4b00-8308-8f6a71daeef4",
   "metadata": {
    "tags": []
   },
   "outputs": [
    {
     "data": {
      "application/vnd.jupyter.widget-view+json": {
       "model_id": "9694b78ddad2474890e2ec7a401d0e64",
       "version_major": 2,
       "version_minor": 0
      },
      "text/plain": [
       "  0%|          | 0/24 [00:00<?, ?it/s]"
      ]
     },
     "metadata": {},
     "output_type": "display_data"
    }
   ],
   "source": [
    "mth_2015_2016 = \"?resource_id=d_ea9ed51da2787afaf8e51f827c304208\"\n",
    "base_url = \"https://data.gov.sg/api/action/datastore_search\"\n",
    "url = base_url + mth_2015_2016\n",
    "\n",
    "for mth in tqdm(mths_2015_16):\n",
    "    params = {\n",
    "        \"fields\": param_fields,\n",
    "        \"filters\": json.dumps({'month': mth}),\n",
    "        \"limit\": 10000\n",
    "    }\n",
    "    response = requests.get(url, params=params)\n",
    "    mth_df = pd.DataFrame(response.json().get(\"result\").get(\"records\"))  \n",
    "    latest_df = pd.concat([latest_df, mth_df], axis=0)"
   ]
  },
  {
   "cell_type": "code",
   "execution_count": 7,
   "id": "58e9052c-e3f5-4df7-8b18-ecf5d78f986a",
   "metadata": {
    "tags": []
   },
   "outputs": [
    {
     "data": {
      "application/vnd.jupyter.widget-view+json": {
       "model_id": "65adf28ae3624a2da44c935d5fdcf804",
       "version_major": 2,
       "version_minor": 0
      },
      "text/plain": [
       "  0%|          | 0/90 [00:00<?, ?it/s]"
      ]
     },
     "metadata": {},
     "output_type": "display_data"
    }
   ],
   "source": [
    "mth_2017 = \"?resource_id=d_8b84c4ee58e3cfc0ece0d773c8ca6abc\"\n",
    "base_url = \"https://data.gov.sg/api/action/datastore_search\"\n",
    "url = base_url + mth_2017\n",
    "\n",
    "for mth in tqdm(mths_2017_onwards):\n",
    "    params = {\n",
    "        \"fields\": param_fields,\n",
    "        \"filters\": json.dumps({'month': mth}),\n",
    "        \"limit\": 10000\n",
    "    }\n",
    "    response = requests.get(url, params=params)\n",
    "    mth_df = pd.DataFrame(response.json().get(\"result\").get(\"records\"))   \n",
    "    latest_df = pd.concat([latest_df, mth_df], axis=0)"
   ]
  },
  {
   "cell_type": "markdown",
   "id": "a4ceaf42-5505-4589-bc67-df2775bbb8f2",
   "metadata": {},
   "source": [
    "### Data Processing for creating charts "
   ]
  },
  {
   "cell_type": "code",
   "execution_count": 8,
   "id": "dd67108f-922c-48f6-95c4-35bcd6b84809",
   "metadata": {
    "tags": []
   },
   "outputs": [],
   "source": [
    "df = latest_df.copy()\n",
    "df['yr_q'] = [str(i) for i in pd.to_datetime(df['month']).dt.to_period('Q')]\n",
    "df['count'] = 1\n",
    "df.rename(columns={'resale_price':'price'}, inplace=True)\n",
    "df.price = df.price.astype(float)\n",
    "\n",
    "# Create price categories\n",
    "bins = [0, 300000, 500000, 800000, 1000000, 2000000]\n",
    "labels = [\"<=300k\", \"300-500k\", \"500-800k\", \"800k-1m\", \">=1m\"]\n",
    "df[\"price_grp\"] = pd.cut(df[\"price\"], bins=bins, labels=labels, right=False)\n",
    "\n",
    "chart_width = 1000\n",
    "chart_height = 600"
   ]
  },
  {
   "cell_type": "markdown",
   "id": "8dd9a0ad-b6bb-4a20-9287-31f61f66f820",
   "metadata": {},
   "source": [
    "### My Graphs\n",
    "1. [Home Price Distributions](#Home-price-distributions) - Tracking price distribution of public homes sold\n",
    "1. [Advanced Million Dollar Homes](#Advanced-Million-Dollar-Homes) - Tracking million dollar homes and their porportions\n",
    "1. [Stacked Bar Values](#Stacked-Bar-Values) - Tracking number of public homes sold by their price brackets\n",
    "1. [Stacked Bar Percentage](#Stacked-Bar-Percentage) - Tracking proportion of public homes sold by their price brackets"
   ]
  },
  {
   "cell_type": "markdown",
   "id": "8b48bc4a-8d44-4ea0-b0be-6428cbf3368f",
   "metadata": {},
   "source": [
    "### Home price distributions\n",
    "#### [Back to My Graphs](#My-Graphs)"
   ]
  },
  {
   "cell_type": "code",
   "execution_count": 9,
   "id": "c39f7b35-e3ee-4e05-bc42-a45f2270a76d",
   "metadata": {
    "tags": []
   },
   "outputs": [],
   "source": [
    "period = 'yr_q'\n",
    "fig = go.Figure()\n",
    "for p in df[period].drop_duplicates():\n",
    "    fig.add_trace(go.Box(y=df[df[period] == p].price, name=str(p)))\n",
    "\n",
    "fig.update_layout(\n",
    "    title='By Quarters - Public Home Price Distributions From 2013',\n",
    "    yaxis={\"title\": \"Home Prices\"},\n",
    "    xaxis={\"title\": \"Quarters\"},\n",
    "    width=chart_width, height=chart_height,\n",
    "    showlegend=False,\n",
    ")\n",
    "\n",
    "fig.write_html(\"profile/assets/charts/qtr_boxplot.html\")\n",
    "# fig.show()"
   ]
  },
  {
   "cell_type": "code",
   "execution_count": 10,
   "id": "98a991c9-7e54-4d3c-bd72-887c7955eeb0",
   "metadata": {
    "tags": []
   },
   "outputs": [],
   "source": [
    "period = 'month'\n",
    "fig = go.Figure()\n",
    "\n",
    "mth_df = df[df.yr_q >= '2020Q1']\n",
    "for p in mth_df[period].drop_duplicates():\n",
    "    fig.add_trace(go.Box(y=mth_df[mth_df[period] == p].price, name=str(p)))\n",
    "\n",
    "fig.update_layout(\n",
    "    title='By Months - Public Home Price Distributions From 2020',\n",
    "    yaxis={\"title\": \"Home Prices\"},\n",
    "    xaxis={\"title\": \"Months\"},\n",
    "    width=chart_width, height=chart_height,\n",
    "    showlegend=False,\n",
    ")\n",
    "\n",
    "fig.write_html(\"profile/assets/charts/mth_boxplot.html\")\n",
    "# fig.show()"
   ]
  },
  {
   "cell_type": "markdown",
   "id": "cf128b30-3083-4b73-bb97-d774a5884fab",
   "metadata": {},
   "source": [
    "### Advanced Million Dollar Homes\n",
    "#### [Back to My Graphs](#My-Graphs)"
   ]
  },
  {
   "cell_type": "code",
   "execution_count": 11,
   "id": "b52c8fe6-dcf1-42e3-a92c-d6d71c13f0aa",
   "metadata": {
    "tags": []
   },
   "outputs": [],
   "source": [
    "period = 'yr_q'\n",
    "df['mil'] = [1 if i >= 1000000 else 0 for i in df['price']]\n",
    "for_plot = df.groupby([period, 'mil'])['town'].count().reset_index().sort_values(period)\n",
    "cal_ = for_plot.pivot_table(index=period, values='town', columns='mil', \n",
    "                            margins=True, aggfunc=\"sum\").reset_index().fillna(0)\n",
    "\n",
    "for i in [0, 1, 'All']:\n",
    "    cal_[i] = cal_[i].astype(int)\n",
    "\n",
    "cal_['proportion'] = [round(i,2) for i in cal_[1] / cal_['All'] * 100]\n",
    "cal_mil_ts = cal_[cal_[period] != 'All'].reset_index(drop=True)\n",
    "cal_mil_ts.columns = [period, '0', 'million $ Trans', 'Total Trans', '% million Trans']"
   ]
  },
  {
   "cell_type": "code",
   "execution_count": 12,
   "id": "83ffd39a-f22f-47be-bb14-57a290974741",
   "metadata": {
    "tags": []
   },
   "outputs": [],
   "source": [
    "from plotly.subplots import make_subplots\n",
    "fig = make_subplots(specs=[[{\"secondary_y\": True}]])\n",
    "\n",
    "title = \"By Quarters - % of Million Dollar Public Home Sales [Line] & Total Sales Public Home Sales [Bar] \"\n",
    "fig.add_trace(go.Scatter(\n",
    "    x=cal_mil_ts[period], \n",
    "    y=cal_mil_ts['% million Trans'],\n",
    "    mode='lines+markers',\n",
    "    name=\"%\"), \n",
    "secondary_y=False)\n",
    "\n",
    "fig.add_trace(go.Bar(\n",
    "    x=cal_mil_ts[period],\n",
    "    y=cal_mil_ts['0'],\n",
    "    opacity=.4,\n",
    "    name=\"Total Sales\"),\n",
    "secondary_y=True)\n",
    "\n",
    "fig.update_layout(\n",
    "    title=title,\n",
    "    hovermode=\"x unified\",\n",
    "    xaxis={\"title\": \"Quarters\"},\n",
    "    width=chart_width, height=chart_height,\n",
    "    legend=dict(orientation=\"h\", yanchor=\"bottom\", y=1.02, xanchor=\"right\", x=1)\n",
    ")\n",
    "\n",
    "fig.update_yaxes(title_text=\"% Million Dollar Homes to Overall Sales\", secondary_y=False)\n",
    "fig.update_yaxes(title_text=\"Total Sales\", secondary_y=True)\n",
    "\n",
    "fig.add_hline(y=1, line_width=1.5, line_dash=\"dash\", line_color=\"black\")\n",
    "fig.add_hline(y=1.5, line_width=1.5, line_dash=\"dash\", line_color=\"red\")\n",
    "\n",
    "fig.write_html(\"profile/assets/charts/qtr_barline_chart.html\")\n",
    "# fig.show()"
   ]
  },
  {
   "cell_type": "code",
   "execution_count": 13,
   "id": "6ef3b06f-0148-462c-a9f3-10adc3bd671a",
   "metadata": {
    "tags": []
   },
   "outputs": [],
   "source": [
    "period = 'month'\n",
    "df['mil'] = [1 if i >= 1000000 else 0 for i in df['price']]\n",
    "for_plot = df[df.yr_q >= '2020Q1'].groupby([period, 'mil'])['town'].count().reset_index().sort_values(period)\n",
    "cal_ = for_plot.pivot_table(index=period, values='town', columns='mil', \n",
    "                            margins=True, aggfunc=\"sum\").reset_index().fillna(0)\n",
    "\n",
    "for i in [0, 1, 'All']:\n",
    "    cal_[i] = cal_[i].astype(int)\n",
    "\n",
    "cal_['proportion'] = [round(i,2) for i in cal_[1] / cal_['All'] * 100]\n",
    "cal_mil_ts = cal_[cal_[period] != 'All'].reset_index(drop=True)\n",
    "cal_mil_ts.columns = [period, '0', 'million $ Trans', 'Total Trans', '% million Trans']"
   ]
  },
  {
   "cell_type": "code",
   "execution_count": 14,
   "id": "5e14029b-e5ab-4511-b4d5-5921a29ee607",
   "metadata": {
    "tags": []
   },
   "outputs": [],
   "source": [
    "from plotly.subplots import make_subplots\n",
    "fig = make_subplots(specs=[[{\"secondary_y\": True}]])\n",
    "\n",
    "title = \"By Months - % of Million Dollar Public Home Sales [Line] & Total Sales Public Home Sales [Bar] \"\n",
    "fig.add_trace(go.Scatter(\n",
    "    x=cal_mil_ts[period], \n",
    "    y=cal_mil_ts['% million Trans'],\n",
    "    mode='lines+markers',\n",
    "    name=\"%\"), \n",
    "secondary_y=False)\n",
    "\n",
    "fig.add_trace(go.Bar(\n",
    "    x=cal_mil_ts[period],\n",
    "    y=cal_mil_ts['0'],\n",
    "    opacity=.4,\n",
    "    name=\"Total Sales\"),\n",
    "secondary_y=True)\n",
    "\n",
    "fig.update_layout(\n",
    "    title=title,\n",
    "    hovermode=\"x unified\",\n",
    "    xaxis={\"title\": \"Months\"},\n",
    "    width=chart_width, height=chart_height,\n",
    "    legend=dict(orientation=\"h\", yanchor=\"bottom\", y=1.02, xanchor=\"right\", x=1)\n",
    ")\n",
    "\n",
    "fig.update_yaxes(title_text=\"% Million Dollar Homes to Overall Sales\", secondary_y=False)\n",
    "fig.update_yaxes(title_text=\"Total Sales\", secondary_y=True)\n",
    "\n",
    "fig.add_hline(y=1, line_width=1.5, line_dash=\"dash\", line_color=\"black\")\n",
    "fig.add_hline(y=1.5, line_width=1.5, line_dash=\"dash\", line_color=\"red\")\n",
    "\n",
    "fig.write_html(\"profile/assets/charts/mth_barline_chart.html\")\n",
    "# fig.show()"
   ]
  },
  {
   "cell_type": "markdown",
   "id": "013100d0-fa77-4282-8fb4-fe1ef1b90eba",
   "metadata": {},
   "source": [
    "### Stacked Bar Values\n",
    "#### [Back to My Graphs](#My-Graphs)"
   ]
  },
  {
   "cell_type": "code",
   "execution_count": 15,
   "id": "ba13ba4f-c2a0-4875-9784-467ac6a33730",
   "metadata": {},
   "outputs": [],
   "source": [
    "period = 'yr_q'\n",
    "price_grp_plots = df.groupby([period, 'price_grp'])['count'].sum().reset_index()\n",
    "\n",
    "fig = go.Figure()\n",
    "data = list()\n",
    "for i in price_grp_plots.price_grp.drop_duplicates().tolist():\n",
    "    fig.add_trace(go.Bar(name=i, \n",
    "                         x=price_grp_plots[price_grp_plots.price_grp == i][period].tolist(), \n",
    "                         y=price_grp_plots[price_grp_plots.price_grp == i]['count'].tolist()\n",
    "                        )\n",
    "                 )\n",
    "\n",
    "fig.update_layout(\n",
    "    barmode='stack',\n",
    "    xaxis={'title':'Quarters'},\n",
    "    yaxis={'title':'Count'},\n",
    "    hovermode=\"x unified\",\n",
    "    title=\"By Quarters - No. of Public Home Resales by Price Categories from 2013\",\n",
    "    width=chart_width, height=chart_height,\n",
    "    legend=dict(\n",
    "        orientation=\"h\",\n",
    "        yanchor=\"bottom\",\n",
    "        y=1.02,\n",
    "        xanchor=\"right\",\n",
    "        x=1\n",
    "))\n",
    "\n",
    "fig.write_html(\"profile/assets/charts/qtr_stack_bar_values.html\")\n",
    "# fig.show()"
   ]
  },
  {
   "cell_type": "code",
   "execution_count": 16,
   "id": "6c5b25de-20cf-43ab-8c0e-001487380380",
   "metadata": {},
   "outputs": [],
   "source": [
    "period = 'month'\n",
    "price_grp_plots = df[df.yr_q >= '2020Q1'].groupby([period, 'price_grp'])['count'].sum().reset_index()\n",
    "\n",
    "fig = go.Figure()\n",
    "data = list()\n",
    "for i in price_grp_plots.price_grp.drop_duplicates().tolist():\n",
    "    fig.add_trace(go.Bar(name=i, \n",
    "                         x=price_grp_plots[price_grp_plots.price_grp == i][period].tolist(), \n",
    "                         y=price_grp_plots[price_grp_plots.price_grp == i]['count'].tolist()\n",
    "                        )\n",
    "                 )\n",
    "\n",
    "fig.update_layout(\n",
    "    barmode='stack',\n",
    "    xaxis={'title':'Months'},\n",
    "    yaxis={'title':'Count'},\n",
    "    hovermode=\"x unified\",\n",
    "    title=\"By Months - No. of Public Home Resales by Price Categories from 2020\",\n",
    "    width=chart_width, height=chart_height,\n",
    "    legend=dict(orientation=\"h\", yanchor=\"bottom\", y=1.02, xanchor=\"right\", x=1)\n",
    ")\n",
    "\n",
    "fig.write_html(\"profile/assets/charts/mth_stack_bar_values.html\")\n",
    "# fig.show()"
   ]
  },
  {
   "cell_type": "markdown",
   "id": "042622a7-09d8-43f7-8bd6-8808104fa826",
   "metadata": {},
   "source": [
    "### Stacked Bar Percentage\n",
    "#### [Back to My Graphs](#My-Graphs)"
   ]
  },
  {
   "cell_type": "code",
   "execution_count": 17,
   "id": "ad02fbed-1791-4d1e-a7b7-1b3b3f843c07",
   "metadata": {},
   "outputs": [],
   "source": [
    "period = 'yr_q'\n",
    "price_grp_base = df.groupby(period)['count'].sum().reset_index()\n",
    "price_grp_plots = df.groupby([period, 'price_grp'])['count'].sum().reset_index()\n",
    "price_grp_plots_v2 = price_grp_plots.merge(price_grp_base, on=period)\n",
    "price_grp_plots_v2.columns = [period, 'price_grp', 'count', 'total']\n",
    "price_grp_plots_v2['percent_count'] = [round(i * 100, 1) for i in price_grp_plots_v2['count'] / price_grp_plots_v2['total']]\n",
    "\n",
    "fig = go.Figure()\n",
    "data = list()\n",
    "for i in price_grp_plots_v2.price_grp.drop_duplicates().tolist():\n",
    "    fig.add_trace(go.Bar(name=i, \n",
    "                         x=price_grp_plots_v2[price_grp_plots_v2.price_grp == i][period].tolist(), \n",
    "                         y=price_grp_plots_v2[price_grp_plots_v2.price_grp == i]['percent_count'].tolist(),\n",
    "                        ))\n",
    "fig.add_hline(y=50, line_width=1.5, line_dash=\"dash\", line_color=\"purple\")\n",
    "fig.update_layout(\n",
    "    barmode='stack', \n",
    "    title=\"By Quarters - % of Public Home Sales by Price Categories from 2013\",\n",
    "    xaxis={'title':'Quarters'},\n",
    "    yaxis={'title':'%'},\n",
    "    hovermode=\"x unified\",\n",
    "    width=chart_width, height=chart_height,\n",
    "    legend=dict(orientation=\"h\", yanchor=\"bottom\", y=1.02, xanchor=\"right\", x=1)\n",
    ")\n",
    "\n",
    "fig.write_html(\"profile/assets/charts/qtr_stack_bar_percent.html\")\n",
    "# fig.show()"
   ]
  },
  {
   "cell_type": "code",
   "execution_count": 18,
   "id": "d9d0c77d-45ee-4314-90bc-077134355dfb",
   "metadata": {},
   "outputs": [],
   "source": [
    "period = 'month'\n",
    "mth_df = df[df.yr_q >= '2020Q1']\n",
    "price_grp_base = mth_df.groupby(period)['count'].sum().reset_index()\n",
    "price_grp_plots = mth_df.groupby([period, 'price_grp'])['count'].sum().reset_index()\n",
    "price_grp_plots_v2 = price_grp_plots.merge(price_grp_base, on=period)\n",
    "price_grp_plots_v2.columns = [period, 'price_grp', 'count', 'total']\n",
    "price_grp_plots_v2['percent_count'] = [round(i * 100, 1) for i in price_grp_plots_v2['count'] / price_grp_plots_v2['total']]\n",
    "\n",
    "fig = go.Figure()\n",
    "data = list()\n",
    "for i in price_grp_plots_v2.price_grp.drop_duplicates().tolist():\n",
    "    fig.add_trace(go.Bar(name=i, \n",
    "                         x=price_grp_plots_v2[price_grp_plots_v2.price_grp == i][period].tolist(), \n",
    "                         y=price_grp_plots_v2[price_grp_plots_v2.price_grp == i]['percent_count'].tolist(),\n",
    "                        ))\n",
    "fig.add_hline(y=50, line_width=1.5, line_dash=\"dash\", line_color=\"purple\")\n",
    "fig.update_layout(\n",
    "    barmode='stack', \n",
    "    title=\"By Months - % of Public Home Sales by Price Categories from 2013\",\n",
    "    xaxis={'title':'Months'},\n",
    "    yaxis={'title':'%'},\n",
    "    hovermode=\"x unified\",\n",
    "    width=chart_width, height=chart_height,\n",
    "    legend=dict(orientation=\"h\", yanchor=\"bottom\", y=1.02, xanchor=\"right\", x=1)\n",
    ")\n",
    "\n",
    "fig.write_html(\"profile/assets/charts/mth_stack_bar_percent.html\")\n",
    "# fig.show()"
   ]
  }
 ],
 "metadata": {
  "kernelspec": {
   "display_name": "Python 3 (ipykernel)",
   "language": "python",
   "name": "python3"
  },
  "language_info": {
   "codemirror_mode": {
    "name": "ipython",
    "version": 3
   },
   "file_extension": ".py",
   "mimetype": "text/x-python",
   "name": "python",
   "nbconvert_exporter": "python",
   "pygments_lexer": "ipython3",
   "version": "3.9.10"
  }
 },
 "nbformat": 4,
 "nbformat_minor": 5
}
