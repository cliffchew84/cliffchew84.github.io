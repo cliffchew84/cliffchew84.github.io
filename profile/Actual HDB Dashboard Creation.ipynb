{
 "cells": [
  {
   "cell_type": "markdown",
   "id": "f965f872-2447-4433-ada3-c61a9234964a",
   "metadata": {},
   "source": [
    "### HDB Dashboard Creation Workflow"
   ]
  },
  {
   "cell_type": "code",
   "execution_count": 2,
   "id": "1c924953-4eb6-466f-abec-0d7d09516521",
   "metadata": {
    "tags": []
   },
   "outputs": [],
   "source": [
    "import os\n",
    "import json\n",
    "import requests\n",
    "import pygsheets\n",
    "import numpy as np\n",
    "import pandas as pd\n",
    "from datetime import datetime\n",
    "from dateutil.relativedelta import relativedelta\n",
    "import plotly.graph_objects as go"
   ]
  },
  {
   "cell_type": "markdown",
   "id": "3efd858d-572b-40b2-a301-65399afc6152",
   "metadata": {},
   "source": [
    "### Set up period to make API calls for - This month + last month"
   ]
  },
  {
   "cell_type": "code",
   "execution_count": 3,
   "id": "26e99bd6-0f0d-4722-8408-8d11adb3e850",
   "metadata": {
    "tags": []
   },
   "outputs": [],
   "source": [
    "current_date = datetime.today()\n",
    "current_yr_mth = current_date.strftime('%Y-%m')\n",
    "previous_yr_mth = (current_date - relativedelta(months=1)).strftime('%Y-%m')\n",
    "api_periods_to_call = [current_yr_mth, previous_yr_mth]"
   ]
  },
  {
   "cell_type": "markdown",
   "id": "f4d5af92-2e37-4fb4-ac25-36cb7dcea8a6",
   "metadata": {},
   "source": [
    "#### Make API calls to Data.gov.sg to update data"
   ]
  },
  {
   "cell_type": "code",
   "execution_count": 4,
   "id": "de5cc9ef-87ad-40bb-af76-0a44111af5b5",
   "metadata": {
    "tags": []
   },
   "outputs": [],
   "source": [
    "df_cols = ['month', 'town', 'floor_area_sqm', 'flat_type', 'lease_commence_date', 'resale_price' ]\n",
    "param_fields = \",\".join(df_cols)"
   ]
  },
  {
   "cell_type": "code",
   "execution_count": 5,
   "id": "ab0ace93-92e2-41be-b1e4-61a760e1c625",
   "metadata": {
    "tags": []
   },
   "outputs": [],
   "source": [
    "base_url = \"https://data.gov.sg/api/action/datastore_search\"\n",
    "url = base_url + \"?resource_id=d_8b84c4ee58e3cfc0ece0d773c8ca6abc\"\n",
    "\n",
    "latest_df = pd.DataFrame()\n",
    "for mth in api_periods_to_call:\n",
    "    params = {\n",
    "        \"fields\": param_fields,\n",
    "        \"filters\": json.dumps({'month': mth}),\n",
    "        \"limit\": 10000\n",
    "    }\n",
    "    response = requests.get(url, params=params)\n",
    "    mth_df = pd.DataFrame(response.json().get(\"result\").get(\"records\"))\n",
    "    latest_df = pd.concat([latest_df, mth_df], axis=0)"
   ]
  },
  {
   "cell_type": "markdown",
   "id": "59212538-e7e2-40fb-8ab4-fa709b491f3f",
   "metadata": {},
   "source": [
    "### Extract original data from Google Sheets"
   ]
  },
  {
   "cell_type": "code",
   "execution_count": 6,
   "id": "187e20a5-a731-4767-bfc9-fc2fdac65d97",
   "metadata": {
    "tags": []
   },
   "outputs": [],
   "source": [
    "google_auth = os.environ['gsheet_cred']\n",
    "api_email = os.environ[\"gsheet_api_email\"]\n",
    "gc = pygsheets.authorize(service_file=google_auth)\n",
    "\n",
    "\n",
    "def open_or_create_spreadsheet(ss_name: str, print_status=True\n",
    "                               ) -> pygsheets.Spreadsheet:\n",
    "    \"\"\"\n",
    "    Opens Spreadsheet by name.\n",
    "    If Spreadsheet doesn't exist, create it.\n",
    "    \"\"\"\n",
    "    try:\n",
    "        if print_status:\n",
    "            print(\"Accessing {}\".format(ss_name))\n",
    "        sheet = gc.open(ss_name)\n",
    "\n",
    "    except Exception:\n",
    "        if print_status:\n",
    "            print(\"{} doesn't exist.\\nCreating it now\".format(ss_name))\n",
    "\n",
    "        # Create new spreadsheet\n",
    "        gc.sheet.create(ss_name)\n",
    "        sheet = gc.open(ss_name)\n",
    "\n",
    "        # Share my API email and personal email\n",
    "        sheet.share(api_email, role='writer', type='user')\n",
    "        sheet.share('cliffchew84@gmail.com', role='writer', type='user')\n",
    "\n",
    "        # Share to all for reading\n",
    "        sheet.share('', role='reader', type='anyone')\n",
    "\n",
    "    print(f\"Spreadsheet link: {sheet.url}\")\n",
    "    return sheet\n",
    "\n",
    "\n",
    "def open_or_create_worksheet(sheet: pygsheets.Spreadsheet,\n",
    "                             ws_name: str,\n",
    "                             print_status=True\n",
    "                             ) -> pygsheets.Worksheet:\n",
    "    \"\"\"\n",
    "    Tries to open a Google Worksheet by name.\n",
    "    If the worksheet doesn't exist, create it.\n",
    "    \"\"\"\n",
    "    try:\n",
    "        sheet.add_worksheet(ws_name, rows=10000, cols=26)\n",
    "        if print_status:\n",
    "            print(\"{} doesn't exist.\\nCreating it now.\\n\".format(ws_name))\n",
    "\n",
    "    except Exception:\n",
    "        if print_status:\n",
    "            print(\"Accessing {} Worksheet\".format(ws_name))\n",
    "\n",
    "    ws = sheet.worksheet_by_title(ws_name)\n",
    "    if print_status:\n",
    "        print(f\"Spreadsheet link: {sheet.url}\")\n",
    "\n",
    "    return ws\n",
    "\n",
    "\n",
    "def load_df_into_worksheet(ws: pygsheets.Worksheet,\n",
    "                           df: pd.DataFrame,\n",
    "                           copy_head: bool = False,\n",
    "                           cell: tuple[int, int] = (1, 1)):\n",
    "    \"\"\"\n",
    "    Check for adequate rows in Gsheet before pushing df into it\n",
    "    \"\"\"\n",
    "\n",
    "    df_rows = df.shape[0]\n",
    "    ws_rows = ws.rows\n",
    "\n",
    "    if df_rows > ws_rows:\n",
    "        ws.add_rows(df_rows - ws_rows)\n",
    "\n",
    "    if df_rows == 0 or copy_head:\n",
    "        return ws.set_dataframe(df, cell, copy_head=copy_head)\n",
    "\n",
    "    else:\n",
    "        return ws.append_table(values=df.values.tolist())"
   ]
  },
  {
   "cell_type": "code",
   "execution_count": 7,
   "id": "7e6e656c-c947-4630-8575-28a4c75c040a",
   "metadata": {
    "tags": []
   },
   "outputs": [
    {
     "name": "stdout",
     "output_type": "stream",
     "text": [
      "Accessing HDB\n",
      "Spreadsheet link: https://docs.google.com/spreadsheets/d/102UvHZS9WtiAxRZF2vGbYChpwo7WEFboF3_vw_jDtLc\n"
     ]
    }
   ],
   "source": [
    "sheet = open_or_create_spreadsheet(\"HDB\")"
   ]
  },
  {
   "cell_type": "markdown",
   "id": "d50de911-904e-41e6-b6a3-d44c63701b9d",
   "metadata": {},
   "source": [
    "#### Extract data from Google Sheets "
   ]
  },
  {
   "cell_type": "code",
   "execution_count": 8,
   "id": "51da39f9-1abe-47e7-927c-a218d4904823",
   "metadata": {
    "tags": []
   },
   "outputs": [
    {
     "name": "stdout",
     "output_type": "stream",
     "text": [
      "Accessing 2013-2018 Worksheet\n",
      "Spreadsheet link: https://docs.google.com/spreadsheets/d/102UvHZS9WtiAxRZF2vGbYChpwo7WEFboF3_vw_jDtLc\n",
      "Accessing 2019-2023 Worksheet\n",
      "Spreadsheet link: https://docs.google.com/spreadsheets/d/102UvHZS9WtiAxRZF2vGbYChpwo7WEFboF3_vw_jDtLc\n",
      "Accessing 2024 Worksheet\n",
      "Spreadsheet link: https://docs.google.com/spreadsheets/d/102UvHZS9WtiAxRZF2vGbYChpwo7WEFboF3_vw_jDtLc\n"
     ]
    }
   ],
   "source": [
    "df_list = list()\n",
    "\n",
    "for wk in ['2013-2018', '2019-2023', '2024']:\n",
    "    ws = open_or_create_worksheet(sheet, wk)\n",
    "    df_tmp = ws.get_as_df()\n",
    "    df_list.append(df_tmp)"
   ]
  },
  {
   "cell_type": "code",
   "execution_count": 9,
   "id": "aaebbf95-8379-4adf-960d-06b1039008db",
   "metadata": {
    "tags": []
   },
   "outputs": [
    {
     "data": {
      "text/plain": [
       "(247674, 6)"
      ]
     },
     "execution_count": 9,
     "metadata": {},
     "output_type": "execute_result"
    }
   ],
   "source": [
    "df = pd.concat(df_list)\n",
    "df.shape"
   ]
  },
  {
   "cell_type": "code",
   "execution_count": 10,
   "id": "77d52757-4a9a-45a1-8f39-f1a8fb137563",
   "metadata": {
    "tags": []
   },
   "outputs": [
    {
     "data": {
      "text/plain": [
       "(247674, 7)"
      ]
     },
     "execution_count": 10,
     "metadata": {},
     "output_type": "execute_result"
    }
   ],
   "source": [
    "df['year'] = [i.split('-')[0] for i in df['month']]\n",
    "df = df[df['year'] != '2012']\n",
    "df.sort_values(\"month\", inplace=True)\n",
    "df.shape"
   ]
  },
  {
   "cell_type": "markdown",
   "id": "a9d63bb8-587d-46b3-b5d6-0906ed750c4a",
   "metadata": {},
   "source": [
    "#### Replace last 2 months data with new API data "
   ]
  },
  {
   "cell_type": "code",
   "execution_count": 11,
   "id": "a19f66dd-6e87-4c38-9aa8-c0bc9a5fd7d3",
   "metadata": {
    "tags": []
   },
   "outputs": [
    {
     "data": {
      "text/plain": [
       "(247674, 7)"
      ]
     },
     "execution_count": 11,
     "metadata": {},
     "output_type": "execute_result"
    }
   ],
   "source": [
    "df = df[~df.month.isin(api_periods_to_call)]\n",
    "df.shape"
   ]
  },
  {
   "cell_type": "code",
   "execution_count": 12,
   "id": "381763fb-e38b-423c-97f2-451a47f49456",
   "metadata": {
    "tags": []
   },
   "outputs": [
    {
     "data": {
      "text/plain": [
       "(250612, 7)"
      ]
     },
     "execution_count": 12,
     "metadata": {},
     "output_type": "execute_result"
    }
   ],
   "source": [
    "df = pd.concat([df, latest_df])\n",
    "df.shape"
   ]
  },
  {
   "cell_type": "markdown",
   "id": "6fba6c57-6b95-4874-a9c3-34834544a2e6",
   "metadata": {},
   "source": [
    "### Clear Latest Google Sheets table"
   ]
  },
  {
   "cell_type": "code",
   "execution_count": 13,
   "id": "e8f158d7-7f2e-43b9-b1ff-cfbeb31affbd",
   "metadata": {
    "tags": []
   },
   "outputs": [
    {
     "name": "stdout",
     "output_type": "stream",
     "text": [
      "Accessing 2024 Worksheet\n",
      "Spreadsheet link: https://docs.google.com/spreadsheets/d/102UvHZS9WtiAxRZF2vGbYChpwo7WEFboF3_vw_jDtLc\n"
     ]
    }
   ],
   "source": [
    "ws = open_or_create_worksheet(sheet, '2024')\n",
    "rows = ws.rows\n",
    "cols = ws.cols\n",
    "\n",
    "end_cell = pygsheets.utils.format_addr((rows, cols))\n",
    "end_cell\n",
    "\n",
    "# Clear all information in the worksheet by specifying the entire range\n",
    "ws.clear(start='A1', end=end_cell)"
   ]
  },
  {
   "cell_type": "markdown",
   "id": "0926e995-3e35-4cdb-bab5-3c90ce3bca4c",
   "metadata": {},
   "source": [
    "### Load updated data into Google Sheets "
   ]
  },
  {
   "cell_type": "code",
   "execution_count": 14,
   "id": "9fca2d23-b41e-4786-9adb-f03f1dbb42c7",
   "metadata": {
    "tags": []
   },
   "outputs": [
    {
     "name": "stdout",
     "output_type": "stream",
     "text": [
      "Accessing 2024 Worksheet\n",
      "Spreadsheet link: https://docs.google.com/spreadsheets/d/102UvHZS9WtiAxRZF2vGbYChpwo7WEFboF3_vw_jDtLc\n"
     ]
    }
   ],
   "source": [
    "df_tmp = df[df['year'] == '2024']\n",
    "del df_tmp['year']\n",
    "\n",
    "ws = open_or_create_worksheet(sheet, '2024')\n",
    "ws.set_dataframe(df_tmp, (1,1))"
   ]
  },
  {
   "cell_type": "markdown",
   "id": "a4ceaf42-5505-4589-bc67-df2775bbb8f2",
   "metadata": {},
   "source": [
    "### Data Processing for creating charts "
   ]
  },
  {
   "cell_type": "code",
   "execution_count": 21,
   "id": "dd67108f-922c-48f6-95c4-35bcd6b84809",
   "metadata": {
    "tags": []
   },
   "outputs": [],
   "source": [
    "df['yr_q'] = [str(i) for i in pd.to_datetime(df['month']).dt.to_period('Q')]\n",
    "\n",
    "chart_width = 1000\n",
    "chart_height = 600\n",
    "\n",
    "df['count'] = 1\n",
    "df.sort_values('month', inplace=True)\n",
    "df.rename(columns={'resale_price':'price'}, inplace=True)\n",
    "df.price = df.price.astype(float)\n",
    "\n",
    "# Create price categories\n",
    "bins = [0, 300000, 500000, 800000, 1000000, 2000000]\n",
    "labels = [\"<=300k\", \"300-500k\", \"500-800k\", \"800k-1m\", \">=1m\"]\n",
    "df[\"price_grp\"] = pd.cut(df[\"price\"], bins=bins, labels=labels, right=False)"
   ]
  },
  {
   "cell_type": "markdown",
   "id": "8dd9a0ad-b6bb-4a20-9287-31f61f66f820",
   "metadata": {},
   "source": [
    "### My Graphs\n",
    "1. [Home Price Distributions](#Home-price-distributions) - Tracking price distribution of public homes sold\n",
    "1. [Advanced Million Dollar Homes](#Advanced-Million-Dollar-Homes) - Tracking million dollar homes and their porportions\n",
    "1. [Stacked Bar Values](#Stacked-Bar-Values) - Tracking number of public homes sold by their price brackets\n",
    "1. [Stacked Bar Percentage](#Stacked-Bar-Percentage) - Tracking proportion of public homes sold by their price brackets"
   ]
  },
  {
   "cell_type": "markdown",
   "id": "8b48bc4a-8d44-4ea0-b0be-6428cbf3368f",
   "metadata": {},
   "source": [
    "### Home price distributions\n",
    "#### [Back to My Graphs](#My-Graphs)"
   ]
  },
  {
   "cell_type": "code",
   "execution_count": 22,
   "id": "c39f7b35-e3ee-4e05-bc42-a45f2270a76d",
   "metadata": {
    "tags": []
   },
   "outputs": [],
   "source": [
    "period = 'yr_q'\n",
    "fig = go.Figure()\n",
    "for p in df[period].drop_duplicates():\n",
    "    fig.add_trace(go.Box(y=df[df[period] == p].price, name=str(p)))\n",
    "\n",
    "fig.update_layout(\n",
    "    title='Public Home Price Distributions by Quarters, From 2013',\n",
    "    yaxis={\"title\": \"Home Prices\"},\n",
    "    xaxis={\"title\": \"Quarters\"},\n",
    "    width=chart_width, height=chart_height,\n",
    "    showlegend=False,\n",
    ")\n",
    "\n",
    "fig.write_html(\"assets/charts/qtr_boxplot.html\")\n",
    "# fig.show()"
   ]
  },
  {
   "cell_type": "code",
   "execution_count": null,
   "id": "98a991c9-7e54-4d3c-bd72-887c7955eeb0",
   "metadata": {
    "tags": []
   },
   "outputs": [],
   "source": [
    "period = 'month'\n",
    "fig = go.Figure()\n",
    "\n",
    "mth_df = df[df.yr_q >= '2020Q1']\n",
    "for p in mth_df[period].drop_duplicates():\n",
    "    fig.add_trace(go.Box(y=mth_df[mth_df[period] == p].price, name=str(p)))\n",
    "\n",
    "fig.update_layout(\n",
    "    title='Public Home Price Distributions by Months, From 2020',\n",
    "    yaxis={\"title\": \"Home Prices\"},\n",
    "    xaxis={\"title\": \"Months\"},\n",
    "    width=chart_width, height=chart_height,\n",
    "    showlegend=False,\n",
    ")\n",
    "\n",
    "fig.write_html(\"assets/charts/mth_boxplot.html\")\n",
    "# fig.show()"
   ]
  },
  {
   "cell_type": "markdown",
   "id": "cf128b30-3083-4b73-bb97-d774a5884fab",
   "metadata": {},
   "source": [
    "### Advanced Million Dollar Homes\n",
    "#### [Back to My Graphs](#My-Graphs)"
   ]
  },
  {
   "cell_type": "code",
   "execution_count": null,
   "id": "b52c8fe6-dcf1-42e3-a92c-d6d71c13f0aa",
   "metadata": {
    "tags": []
   },
   "outputs": [],
   "source": [
    "period = 'yr_q'\n",
    "df['mil'] = [1 if i >= 1000000 else 0 for i in df['price']]\n",
    "for_plot = df.groupby([period, 'mil'])['town'].count().reset_index().sort_values(period)\n",
    "cal_ = for_plot.pivot_table(index=period, values='town', columns='mil', \n",
    "                            margins=True, aggfunc=np.sum).reset_index().fillna(0)\n",
    "\n",
    "for i in [0, 1, 'All']:\n",
    "    cal_[i] = cal_[i].astype(int)\n",
    "\n",
    "cal_['proportion'] = [round(i,2) for i in cal_[1] / cal_['All'] * 100]\n",
    "cal_mil_ts = cal_[cal_[period] != 'All'].reset_index(drop=True)\n",
    "cal_mil_ts.columns = [period, '0', 'million $ Trans', 'Total Trans', '% million Trans']"
   ]
  },
  {
   "cell_type": "code",
   "execution_count": null,
   "id": "83ffd39a-f22f-47be-bb14-57a290974741",
   "metadata": {
    "tags": []
   },
   "outputs": [],
   "source": [
    "from plotly.subplots import make_subplots\n",
    "fig = make_subplots(specs=[[{\"secondary_y\": True}]])\n",
    "\n",
    "title = \"% of Million Dollar Public Home Sales [Line] & Total Sales Public Home Sales [Bar] \"\n",
    "fig.add_trace(go.Scatter(\n",
    "    x=cal_mil_ts[period], \n",
    "    y=cal_mil_ts['% million Trans'],\n",
    "    mode='lines+markers',\n",
    "    name=\"%\"), \n",
    "secondary_y=False)\n",
    "\n",
    "fig.add_trace(go.Bar(\n",
    "    x=cal_mil_ts[period],\n",
    "    y=cal_mil_ts['0'],\n",
    "    opacity=.4,\n",
    "    name=\"Total Sales\"),\n",
    "secondary_y=True)\n",
    "\n",
    "fig.update_layout(\n",
    "    title=title,\n",
    "    hovermode=\"x unified\",\n",
    "    width=chart_width, height=chart_height,\n",
    "    legend=dict(orientation=\"h\", yanchor=\"bottom\", y=1.02, xanchor=\"right\", x=1)\n",
    ")\n",
    "\n",
    "fig.update_xaxes(title_text=\"Quarters\")\n",
    "fig.update_yaxes(title_text=\"% Million Dollar Homes to Overall Sales\", secondary_y=False)\n",
    "fig.update_yaxes(title_text=\"Total Sales\", secondary_y=True)\n",
    "\n",
    "fig.add_hline(y=1, line_width=1.5, line_dash=\"dash\", line_color=\"black\")\n",
    "fig.add_hline(y=1.5, line_width=1.5, line_dash=\"dash\", line_color=\"red\")\n",
    "\n",
    "fig.write_html(\"assets/charts/qtr_barline_chart.html\")\n",
    "# fig.show()"
   ]
  },
  {
   "cell_type": "code",
   "execution_count": null,
   "id": "6ef3b06f-0148-462c-a9f3-10adc3bd671a",
   "metadata": {
    "tags": []
   },
   "outputs": [],
   "source": [
    "period = 'month'\n",
    "df['mil'] = [1 if i >= 1000000 else 0 for i in df['price']]\n",
    "for_plot = df[df.yr_q >= '2020Q1'].groupby([period, 'mil'])['town'].count().reset_index().sort_values(period)\n",
    "cal_ = for_plot.pivot_table(index=period, values='town', columns='mil', \n",
    "                            margins=True, aggfunc=np.sum).reset_index().fillna(0)\n",
    "\n",
    "for i in [0, 1, 'All']:\n",
    "    cal_[i] = cal_[i].astype(int)\n",
    "\n",
    "cal_['proportion'] = [round(i,2) for i in cal_[1] / cal_['All'] * 100]\n",
    "cal_mil_ts = cal_[cal_[period] != 'All'].reset_index(drop=True)\n",
    "cal_mil_ts.columns = [period, '0', 'million $ Trans', 'Total Trans', '% million Trans']"
   ]
  },
  {
   "cell_type": "code",
   "execution_count": null,
   "id": "5e14029b-e5ab-4511-b4d5-5921a29ee607",
   "metadata": {
    "tags": []
   },
   "outputs": [],
   "source": [
    "from plotly.subplots import make_subplots\n",
    "fig = make_subplots(specs=[[{\"secondary_y\": True}]])\n",
    "\n",
    "title = \"% of Million Dollar Public Home Sales [Line] & Total Sales Public Home Sales [Bar] \"\n",
    "fig.add_trace(go.Scatter(\n",
    "    x=cal_mil_ts[period], \n",
    "    y=cal_mil_ts['% million Trans'],\n",
    "    mode='lines+markers',\n",
    "    name=\"%\"), \n",
    "secondary_y=False)\n",
    "\n",
    "fig.add_trace(go.Bar(\n",
    "    x=cal_mil_ts[period],\n",
    "    y=cal_mil_ts['0'],\n",
    "    opacity=.4,\n",
    "    name=\"Total Sales\"),\n",
    "secondary_y=True)\n",
    "\n",
    "fig.update_layout(\n",
    "    title=title,\n",
    "    hovermode=\"x unified\",\n",
    "    width=chart_width, height=chart_height,\n",
    "    legend=dict(orientation=\"h\", yanchor=\"bottom\", y=1.02, xanchor=\"right\", x=1)\n",
    ")\n",
    "\n",
    "fig.update_xaxes(title_text=\"Months\")\n",
    "fig.update_yaxes(title_text=\"% Million Dollar Homes to Overall Sales\", secondary_y=False)\n",
    "fig.update_yaxes(title_text=\"Total Sales\", secondary_y=True)\n",
    "\n",
    "fig.add_hline(y=1, line_width=1.5, line_dash=\"dash\", line_color=\"black\")\n",
    "fig.add_hline(y=1.5, line_width=1.5, line_dash=\"dash\", line_color=\"red\")\n",
    "\n",
    "fig.write_html(\"assets/charts/mth_barline_chart.html\")\n",
    "# fig.show()"
   ]
  },
  {
   "cell_type": "markdown",
   "id": "013100d0-fa77-4282-8fb4-fe1ef1b90eba",
   "metadata": {},
   "source": [
    "### Stacked Bar Values\n",
    "#### [Back to My Graphs](#My-Graphs)"
   ]
  },
  {
   "cell_type": "code",
   "execution_count": null,
   "id": "ba13ba4f-c2a0-4875-9784-467ac6a33730",
   "metadata": {},
   "outputs": [],
   "source": [
    "period = 'yr_q'\n",
    "price_grp_plots = df.groupby([period, 'price_grp'])['count'].sum().reset_index()\n",
    "\n",
    "fig = go.Figure()\n",
    "data = list()\n",
    "for i in price_grp_plots.price_grp.drop_duplicates().tolist():\n",
    "    fig.add_trace(go.Bar(name=i, \n",
    "                         x=price_grp_plots[price_grp_plots.price_grp == i][period].tolist(), \n",
    "                         y=price_grp_plots[price_grp_plots.price_grp == i]['count'].tolist()\n",
    "                        )\n",
    "                 )\n",
    "\n",
    "fig.update_layout(\n",
    "    barmode='stack',\n",
    "    xaxis={'title':'Quarters'},\n",
    "    yaxis={'title':'Count'},\n",
    "    hovermode=\"x unified\",\n",
    "    title=\"No. of Public Home Resales by Price Categories & Quarters, from 2013\",\n",
    "    width=chart_width, height=chart_height,\n",
    "    legend=dict(\n",
    "        orientation=\"h\",\n",
    "        yanchor=\"bottom\",\n",
    "        y=1.02,\n",
    "        xanchor=\"right\",\n",
    "        x=1\n",
    "))\n",
    "\n",
    "fig.write_html(\"assets/charts/qtr_stack_bar_values.html\")\n",
    "# fig.show()"
   ]
  },
  {
   "cell_type": "code",
   "execution_count": null,
   "id": "6c5b25de-20cf-43ab-8c0e-001487380380",
   "metadata": {},
   "outputs": [],
   "source": [
    "period = 'month'\n",
    "price_grp_plots = df[df.yr_q >= '2020Q1'].groupby([period, 'price_grp'])['count'].sum().reset_index()\n",
    "\n",
    "fig = go.Figure()\n",
    "data = list()\n",
    "for i in price_grp_plots.price_grp.drop_duplicates().tolist():\n",
    "    fig.add_trace(go.Bar(name=i, \n",
    "                         x=price_grp_plots[price_grp_plots.price_grp == i][period].tolist(), \n",
    "                         y=price_grp_plots[price_grp_plots.price_grp == i]['count'].tolist()\n",
    "                        )\n",
    "                 )\n",
    "\n",
    "fig.update_layout(\n",
    "    barmode='stack',\n",
    "    xaxis={'title':'Months'},\n",
    "    yaxis={'title':'Count'},\n",
    "    hovermode=\"x unified\",\n",
    "    title=\"No. of Public Home Resales by Price Categories & Months, from 2020\",\n",
    "    width=chart_width, height=chart_height,\n",
    "    legend=dict(orientation=\"h\", yanchor=\"bottom\", y=1.02, xanchor=\"right\", x=1)\n",
    ")\n",
    "\n",
    "fig.write_html(\"assets/charts/mth_stack_bar_values.html\")\n",
    "# fig.show()"
   ]
  },
  {
   "cell_type": "markdown",
   "id": "042622a7-09d8-43f7-8bd6-8808104fa826",
   "metadata": {},
   "source": [
    "### Stacked Bar Percentage\n",
    "#### [Back to My Graphs](#My-Graphs)"
   ]
  },
  {
   "cell_type": "code",
   "execution_count": null,
   "id": "ad02fbed-1791-4d1e-a7b7-1b3b3f843c07",
   "metadata": {},
   "outputs": [],
   "source": [
    "period = 'yr_q'\n",
    "price_grp_base = df.groupby(period)['count'].sum().reset_index()\n",
    "price_grp_plots = df.groupby([period, 'price_grp'])['count'].sum().reset_index()\n",
    "price_grp_plots_v2 = price_grp_plots.merge(price_grp_base, on=period)\n",
    "price_grp_plots_v2.columns = [period, 'price_grp', 'count', 'total']\n",
    "price_grp_plots_v2['percent_count'] = [round(i * 100, 1) for i in price_grp_plots_v2['count'] / price_grp_plots_v2['total']]\n",
    "\n",
    "fig = go.Figure()\n",
    "data = list()\n",
    "for i in price_grp_plots_v2.price_grp.drop_duplicates().tolist():\n",
    "    fig.add_trace(go.Bar(name=i, \n",
    "                         x=price_grp_plots_v2[price_grp_plots_v2.price_grp == i][period].tolist(), \n",
    "                         y=price_grp_plots_v2[price_grp_plots_v2.price_grp == i]['percent_count'].tolist(),\n",
    "                        ))\n",
    "fig.add_hline(y=50, line_width=1.5, line_dash=\"dash\", line_color=\"purple\")\n",
    "fig.update_layout(\n",
    "    barmode='stack', \n",
    "    title=\"% of Public Home Sales by Price Categories & Quarters, from 2013\",\n",
    "    xaxis={'title':'Quarters'},\n",
    "    yaxis={'title':'%'},\n",
    "    hovermode=\"x unified\",\n",
    "    width=chart_width, height=chart_height,\n",
    "    legend=dict(orientation=\"h\", yanchor=\"bottom\", y=1.02, xanchor=\"right\", x=1)\n",
    ")\n",
    "\n",
    "fig.write_html(\"assets/charts/qtr_stack_bar_percent.html\")\n",
    "# fig.show()"
   ]
  },
  {
   "cell_type": "code",
   "execution_count": null,
   "id": "d9d0c77d-45ee-4314-90bc-077134355dfb",
   "metadata": {},
   "outputs": [],
   "source": [
    "period = 'month'\n",
    "mth_df = df[df.yr_q >= '2020Q1']\n",
    "price_grp_base = mth_df.groupby(period)['count'].sum().reset_index()\n",
    "price_grp_plots = mth_df.groupby([period, 'price_grp'])['count'].sum().reset_index()\n",
    "price_grp_plots_v2 = price_grp_plots.merge(price_grp_base, on=period)\n",
    "price_grp_plots_v2.columns = [period, 'price_grp', 'count', 'total']\n",
    "price_grp_plots_v2['percent_count'] = [round(i * 100, 1) for i in price_grp_plots_v2['count'] / price_grp_plots_v2['total']]\n",
    "\n",
    "fig = go.Figure()\n",
    "data = list()\n",
    "for i in price_grp_plots_v2.price_grp.drop_duplicates().tolist():\n",
    "    fig.add_trace(go.Bar(name=i, \n",
    "                         x=price_grp_plots_v2[price_grp_plots_v2.price_grp == i][period].tolist(), \n",
    "                         y=price_grp_plots_v2[price_grp_plots_v2.price_grp == i]['percent_count'].tolist(),\n",
    "                        ))\n",
    "fig.add_hline(y=50, line_width=1.5, line_dash=\"dash\", line_color=\"purple\")\n",
    "fig.update_layout(\n",
    "    barmode='stack', \n",
    "    title=\"% of Public Home Sales by Price Categories & Months, from 2013\",\n",
    "    xaxis={'title':'Months'},\n",
    "    yaxis={'title':'%'},\n",
    "    hovermode=\"x unified\",\n",
    "    width=chart_width, height=chart_height,\n",
    "    legend=dict(orientation=\"h\", yanchor=\"bottom\", y=1.02, xanchor=\"right\", x=1)\n",
    ")\n",
    "\n",
    "fig.write_html(\"assets/charts/mth_stack_bar_percent.html\")\n",
    "# fig.show()"
   ]
  }
 ],
 "metadata": {
  "kernelspec": {
   "display_name": "Python 3 (ipykernel)",
   "language": "python",
   "name": "python3"
  },
  "language_info": {
   "codemirror_mode": {
    "name": "ipython",
    "version": 3
   },
   "file_extension": ".py",
   "mimetype": "text/x-python",
   "name": "python",
   "nbconvert_exporter": "python",
   "pygments_lexer": "ipython3",
   "version": "3.9.10"
  }
 },
 "nbformat": 4,
 "nbformat_minor": 5
}
